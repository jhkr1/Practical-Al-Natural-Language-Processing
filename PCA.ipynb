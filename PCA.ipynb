{
  "nbformat": 4,
  "nbformat_minor": 0,
  "metadata": {
    "colab": {
      "provenance": [],
      "authorship_tag": "ABX9TyNeMU+BF2O7590U1mOxEwFg",
      "include_colab_link": true
    },
    "kernelspec": {
      "name": "python3",
      "display_name": "Python 3"
    },
    "language_info": {
      "name": "python"
    }
  },
  "cells": [
    {
      "cell_type": "markdown",
      "metadata": {
        "id": "view-in-github",
        "colab_type": "text"
      },
      "source": [
        "<a href=\"https://colab.research.google.com/github/jhkr1/Practical-Al-Natural-Language-Processing/blob/main/PCA.ipynb\" target=\"_parent\"><img src=\"https://colab.research.google.com/assets/colab-badge.svg\" alt=\"Open In Colab\"/></a>"
      ]
    },
    {
      "cell_type": "markdown",
      "source": [
        "# 1. PCA(주성분 분석)"
      ],
      "metadata": {
        "id": "i5bn-TnnmLEP"
      }
    },
    {
      "cell_type": "markdown",
      "source": [
        "\n",
        "\n",
        "* PCA는 데이터의 분산(variance)을 최대로 하는 축을 찾는 것을 반복하여, 고차원 공간의 표본들을 저차원 공간으로 변환하는 기법\n",
        "\n"
      ],
      "metadata": {
        "id": "mR1XuOQwmPAK"
      }
    },
    {
      "cell_type": "markdown",
      "source": [
        "![PCA.png](data:image/png;base64,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)"
      ],
      "metadata": {
        "id": "YUdVObKSmUab"
      }
    },
    {
      "cell_type": "markdown",
      "source": [
        "## 1-1) 차원 축소의 예"
      ],
      "metadata": {
        "id": "hKA5sIkcmWp4"
      }
    },
    {
      "cell_type": "code",
      "execution_count": 1,
      "metadata": {
        "colab": {
          "base_uri": "https://localhost:8080/"
        },
        "id": "W9ewbmmymI0N",
        "outputId": "af6241e3-ac4c-4934-825d-e5ed8c8432f1"
      },
      "outputs": [
        {
          "output_type": "execute_result",
          "data": {
            "text/plain": [
              "75.0"
            ]
          },
          "metadata": {},
          "execution_count": 1
        }
      ],
      "source": [
        "국어 = 80\n",
        "영어 = 60\n",
        "수학 = 90\n",
        "과학 = 70\n",
        "\n",
        "평균 = (국어 + 영어 + 수학 + 과학)/4 # 5개 차원을 1개 차원으로 축수\n",
        "\n",
        "평균"
      ]
    },
    {
      "cell_type": "code",
      "source": [
        "몸무게 = 82\n",
        "키 = 175\n",
        "\n",
        "BMI = 몸무게 / (키*키)\n",
        "\n",
        "BMI"
      ],
      "metadata": {
        "colab": {
          "base_uri": "https://localhost:8080/"
        },
        "id": "aZ_24I6imcEO",
        "outputId": "553d6968-b1da-4a8f-f045-f665f77cb450"
      },
      "execution_count": 3,
      "outputs": [
        {
          "output_type": "execute_result",
          "data": {
            "text/plain": [
              "0.0026775510204081632"
            ]
          },
          "metadata": {},
          "execution_count": 3
        }
      ]
    },
    {
      "cell_type": "markdown",
      "source": [
        "# 2) PCA 예제"
      ],
      "metadata": {
        "id": "T4OGpxMvmlId"
      }
    },
    {
      "cell_type": "markdown",
      "source": [
        "## 1) 예제 데이터"
      ],
      "metadata": {
        "id": "yT9Wl-18mqBf"
      }
    },
    {
      "cell_type": "code",
      "source": [
        "import pandas as pd\n",
        "# Eating, exercise habbit and their body shape\n",
        "df = pd.DataFrame(columns=['calory', 'breakfast', 'lunch', 'dinner', 'exercise', 'body_shape'])\n",
        "\n",
        "df.loc[0] = [1200, 1, 0, 0, 2, 'Skinny']\n",
        "df.loc[1] = [2800, 1, 1, 1, 1, 'Normal']\n",
        "df.loc[2] = [3500, 2, 2, 1, 0, 'Fat']\n",
        "df.loc[3] = [1400, 0, 1, 0, 3, 'Skinny']\n",
        "df.loc[4] = [5000, 2, 2, 2, 0, 'Fat']\n",
        "df.loc[5] = [1300, 0, 0, 1, 2, 'Skinny']\n",
        "df.loc[6] = [3000, 1, 0, 1, 1, 'Normal']\n",
        "df.loc[7] = [4000, 2, 2, 2, 0, 'Fat']\n",
        "df.loc[8] = [2600, 0, 2, 0, 0, 'Normal']\n",
        "df.loc[9] = [3000, 1, 2, 1, 1, 'Fat']\n",
        "\n",
        "df.head()"
      ],
      "metadata": {
        "colab": {
          "base_uri": "https://localhost:8080/",
          "height": 206
        },
        "id": "Gsa4AtYKmkfD",
        "outputId": "1e0ffb4a-74af-4811-b1cc-541b97e0510f"
      },
      "execution_count": 4,
      "outputs": [
        {
          "output_type": "execute_result",
          "data": {
            "text/plain": [
              "   calory  breakfast  lunch  dinner  exercise body_shape\n",
              "0    1200          1      0       0         2     Skinny\n",
              "1    2800          1      1       1         1     Normal\n",
              "2    3500          2      2       1         0        Fat\n",
              "3    1400          0      1       0         3     Skinny\n",
              "4    5000          2      2       2         0        Fat"
            ],
            "text/html": [
              "\n",
              "  <div id=\"df-d0839b1e-4e9a-472c-9033-3ba8d55c7c7e\" class=\"colab-df-container\">\n",
              "    <div>\n",
              "<style scoped>\n",
              "    .dataframe tbody tr th:only-of-type {\n",
              "        vertical-align: middle;\n",
              "    }\n",
              "\n",
              "    .dataframe tbody tr th {\n",
              "        vertical-align: top;\n",
              "    }\n",
              "\n",
              "    .dataframe thead th {\n",
              "        text-align: right;\n",
              "    }\n",
              "</style>\n",
              "<table border=\"1\" class=\"dataframe\">\n",
              "  <thead>\n",
              "    <tr style=\"text-align: right;\">\n",
              "      <th></th>\n",
              "      <th>calory</th>\n",
              "      <th>breakfast</th>\n",
              "      <th>lunch</th>\n",
              "      <th>dinner</th>\n",
              "      <th>exercise</th>\n",
              "      <th>body_shape</th>\n",
              "    </tr>\n",
              "  </thead>\n",
              "  <tbody>\n",
              "    <tr>\n",
              "      <th>0</th>\n",
              "      <td>1200</td>\n",
              "      <td>1</td>\n",
              "      <td>0</td>\n",
              "      <td>0</td>\n",
              "      <td>2</td>\n",
              "      <td>Skinny</td>\n",
              "    </tr>\n",
              "    <tr>\n",
              "      <th>1</th>\n",
              "      <td>2800</td>\n",
              "      <td>1</td>\n",
              "      <td>1</td>\n",
              "      <td>1</td>\n",
              "      <td>1</td>\n",
              "      <td>Normal</td>\n",
              "    </tr>\n",
              "    <tr>\n",
              "      <th>2</th>\n",
              "      <td>3500</td>\n",
              "      <td>2</td>\n",
              "      <td>2</td>\n",
              "      <td>1</td>\n",
              "      <td>0</td>\n",
              "      <td>Fat</td>\n",
              "    </tr>\n",
              "    <tr>\n",
              "      <th>3</th>\n",
              "      <td>1400</td>\n",
              "      <td>0</td>\n",
              "      <td>1</td>\n",
              "      <td>0</td>\n",
              "      <td>3</td>\n",
              "      <td>Skinny</td>\n",
              "    </tr>\n",
              "    <tr>\n",
              "      <th>4</th>\n",
              "      <td>5000</td>\n",
              "      <td>2</td>\n",
              "      <td>2</td>\n",
              "      <td>2</td>\n",
              "      <td>0</td>\n",
              "      <td>Fat</td>\n",
              "    </tr>\n",
              "  </tbody>\n",
              "</table>\n",
              "</div>\n",
              "    <div class=\"colab-df-buttons\">\n",
              "\n",
              "  <div class=\"colab-df-container\">\n",
              "    <button class=\"colab-df-convert\" onclick=\"convertToInteractive('df-d0839b1e-4e9a-472c-9033-3ba8d55c7c7e')\"\n",
              "            title=\"Convert this dataframe to an interactive table.\"\n",
              "            style=\"display:none;\">\n",
              "\n",
              "  <svg xmlns=\"http://www.w3.org/2000/svg\" height=\"24px\" viewBox=\"0 -960 960 960\">\n",
              "    <path d=\"M120-120v-720h720v720H120Zm60-500h600v-160H180v160Zm220 220h160v-160H400v160Zm0 220h160v-160H400v160ZM180-400h160v-160H180v160Zm440 0h160v-160H620v160ZM180-180h160v-160H180v160Zm440 0h160v-160H620v160Z\"/>\n",
              "  </svg>\n",
              "    </button>\n",
              "\n",
              "  <style>\n",
              "    .colab-df-container {\n",
              "      display:flex;\n",
              "      gap: 12px;\n",
              "    }\n",
              "\n",
              "    .colab-df-convert {\n",
              "      background-color: #E8F0FE;\n",
              "      border: none;\n",
              "      border-radius: 50%;\n",
              "      cursor: pointer;\n",
              "      display: none;\n",
              "      fill: #1967D2;\n",
              "      height: 32px;\n",
              "      padding: 0 0 0 0;\n",
              "      width: 32px;\n",
              "    }\n",
              "\n",
              "    .colab-df-convert:hover {\n",
              "      background-color: #E2EBFA;\n",
              "      box-shadow: 0px 1px 2px rgba(60, 64, 67, 0.3), 0px 1px 3px 1px rgba(60, 64, 67, 0.15);\n",
              "      fill: #174EA6;\n",
              "    }\n",
              "\n",
              "    .colab-df-buttons div {\n",
              "      margin-bottom: 4px;\n",
              "    }\n",
              "\n",
              "    [theme=dark] .colab-df-convert {\n",
              "      background-color: #3B4455;\n",
              "      fill: #D2E3FC;\n",
              "    }\n",
              "\n",
              "    [theme=dark] .colab-df-convert:hover {\n",
              "      background-color: #434B5C;\n",
              "      box-shadow: 0px 1px 3px 1px rgba(0, 0, 0, 0.15);\n",
              "      filter: drop-shadow(0px 1px 2px rgba(0, 0, 0, 0.3));\n",
              "      fill: #FFFFFF;\n",
              "    }\n",
              "  </style>\n",
              "\n",
              "    <script>\n",
              "      const buttonEl =\n",
              "        document.querySelector('#df-d0839b1e-4e9a-472c-9033-3ba8d55c7c7e button.colab-df-convert');\n",
              "      buttonEl.style.display =\n",
              "        google.colab.kernel.accessAllowed ? 'block' : 'none';\n",
              "\n",
              "      async function convertToInteractive(key) {\n",
              "        const element = document.querySelector('#df-d0839b1e-4e9a-472c-9033-3ba8d55c7c7e');\n",
              "        const dataTable =\n",
              "          await google.colab.kernel.invokeFunction('convertToInteractive',\n",
              "                                                    [key], {});\n",
              "        if (!dataTable) return;\n",
              "\n",
              "        const docLinkHtml = 'Like what you see? Visit the ' +\n",
              "          '<a target=\"_blank\" href=https://colab.research.google.com/notebooks/data_table.ipynb>data table notebook</a>'\n",
              "          + ' to learn more about interactive tables.';\n",
              "        element.innerHTML = '';\n",
              "        dataTable['output_type'] = 'display_data';\n",
              "        await google.colab.output.renderOutput(dataTable, element);\n",
              "        const docLink = document.createElement('div');\n",
              "        docLink.innerHTML = docLinkHtml;\n",
              "        element.appendChild(docLink);\n",
              "      }\n",
              "    </script>\n",
              "  </div>\n",
              "\n",
              "\n",
              "    <div id=\"df-42b32bc0-d09d-467b-84c9-54fa607bc799\">\n",
              "      <button class=\"colab-df-quickchart\" onclick=\"quickchart('df-42b32bc0-d09d-467b-84c9-54fa607bc799')\"\n",
              "                title=\"Suggest charts\"\n",
              "                style=\"display:none;\">\n",
              "\n",
              "<svg xmlns=\"http://www.w3.org/2000/svg\" height=\"24px\"viewBox=\"0 0 24 24\"\n",
              "     width=\"24px\">\n",
              "    <g>\n",
              "        <path d=\"M19 3H5c-1.1 0-2 .9-2 2v14c0 1.1.9 2 2 2h14c1.1 0 2-.9 2-2V5c0-1.1-.9-2-2-2zM9 17H7v-7h2v7zm4 0h-2V7h2v10zm4 0h-2v-4h2v4z\"/>\n",
              "    </g>\n",
              "</svg>\n",
              "      </button>\n",
              "\n",
              "<style>\n",
              "  .colab-df-quickchart {\n",
              "      --bg-color: #E8F0FE;\n",
              "      --fill-color: #1967D2;\n",
              "      --hover-bg-color: #E2EBFA;\n",
              "      --hover-fill-color: #174EA6;\n",
              "      --disabled-fill-color: #AAA;\n",
              "      --disabled-bg-color: #DDD;\n",
              "  }\n",
              "\n",
              "  [theme=dark] .colab-df-quickchart {\n",
              "      --bg-color: #3B4455;\n",
              "      --fill-color: #D2E3FC;\n",
              "      --hover-bg-color: #434B5C;\n",
              "      --hover-fill-color: #FFFFFF;\n",
              "      --disabled-bg-color: #3B4455;\n",
              "      --disabled-fill-color: #666;\n",
              "  }\n",
              "\n",
              "  .colab-df-quickchart {\n",
              "    background-color: var(--bg-color);\n",
              "    border: none;\n",
              "    border-radius: 50%;\n",
              "    cursor: pointer;\n",
              "    display: none;\n",
              "    fill: var(--fill-color);\n",
              "    height: 32px;\n",
              "    padding: 0;\n",
              "    width: 32px;\n",
              "  }\n",
              "\n",
              "  .colab-df-quickchart:hover {\n",
              "    background-color: var(--hover-bg-color);\n",
              "    box-shadow: 0 1px 2px rgba(60, 64, 67, 0.3), 0 1px 3px 1px rgba(60, 64, 67, 0.15);\n",
              "    fill: var(--button-hover-fill-color);\n",
              "  }\n",
              "\n",
              "  .colab-df-quickchart-complete:disabled,\n",
              "  .colab-df-quickchart-complete:disabled:hover {\n",
              "    background-color: var(--disabled-bg-color);\n",
              "    fill: var(--disabled-fill-color);\n",
              "    box-shadow: none;\n",
              "  }\n",
              "\n",
              "  .colab-df-spinner {\n",
              "    border: 2px solid var(--fill-color);\n",
              "    border-color: transparent;\n",
              "    border-bottom-color: var(--fill-color);\n",
              "    animation:\n",
              "      spin 1s steps(1) infinite;\n",
              "  }\n",
              "\n",
              "  @keyframes spin {\n",
              "    0% {\n",
              "      border-color: transparent;\n",
              "      border-bottom-color: var(--fill-color);\n",
              "      border-left-color: var(--fill-color);\n",
              "    }\n",
              "    20% {\n",
              "      border-color: transparent;\n",
              "      border-left-color: var(--fill-color);\n",
              "      border-top-color: var(--fill-color);\n",
              "    }\n",
              "    30% {\n",
              "      border-color: transparent;\n",
              "      border-left-color: var(--fill-color);\n",
              "      border-top-color: var(--fill-color);\n",
              "      border-right-color: var(--fill-color);\n",
              "    }\n",
              "    40% {\n",
              "      border-color: transparent;\n",
              "      border-right-color: var(--fill-color);\n",
              "      border-top-color: var(--fill-color);\n",
              "    }\n",
              "    60% {\n",
              "      border-color: transparent;\n",
              "      border-right-color: var(--fill-color);\n",
              "    }\n",
              "    80% {\n",
              "      border-color: transparent;\n",
              "      border-right-color: var(--fill-color);\n",
              "      border-bottom-color: var(--fill-color);\n",
              "    }\n",
              "    90% {\n",
              "      border-color: transparent;\n",
              "      border-bottom-color: var(--fill-color);\n",
              "    }\n",
              "  }\n",
              "</style>\n",
              "\n",
              "      <script>\n",
              "        async function quickchart(key) {\n",
              "          const quickchartButtonEl =\n",
              "            document.querySelector('#' + key + ' button');\n",
              "          quickchartButtonEl.disabled = true;  // To prevent multiple clicks.\n",
              "          quickchartButtonEl.classList.add('colab-df-spinner');\n",
              "          try {\n",
              "            const charts = await google.colab.kernel.invokeFunction(\n",
              "                'suggestCharts', [key], {});\n",
              "          } catch (error) {\n",
              "            console.error('Error during call to suggestCharts:', error);\n",
              "          }\n",
              "          quickchartButtonEl.classList.remove('colab-df-spinner');\n",
              "          quickchartButtonEl.classList.add('colab-df-quickchart-complete');\n",
              "        }\n",
              "        (() => {\n",
              "          let quickchartButtonEl =\n",
              "            document.querySelector('#df-42b32bc0-d09d-467b-84c9-54fa607bc799 button');\n",
              "          quickchartButtonEl.style.display =\n",
              "            google.colab.kernel.accessAllowed ? 'block' : 'none';\n",
              "        })();\n",
              "      </script>\n",
              "    </div>\n",
              "\n",
              "    </div>\n",
              "  </div>\n"
            ],
            "application/vnd.google.colaboratory.intrinsic+json": {
              "type": "dataframe",
              "variable_name": "df",
              "summary": "{\n  \"name\": \"df\",\n  \"rows\": 10,\n  \"fields\": [\n    {\n      \"column\": \"calory\",\n      \"properties\": {\n        \"dtype\": \"number\",\n        \"std\": 1231,\n        \"min\": 1200,\n        \"max\": 5000,\n        \"num_unique_values\": 9,\n        \"samples\": [\n          4000,\n          2800,\n          1300\n        ],\n        \"semantic_type\": \"\",\n        \"description\": \"\"\n      }\n    },\n    {\n      \"column\": \"breakfast\",\n      \"properties\": {\n        \"dtype\": \"number\",\n        \"std\": 0,\n        \"min\": 0,\n        \"max\": 2,\n        \"num_unique_values\": 3,\n        \"samples\": [\n          1,\n          2,\n          0\n        ],\n        \"semantic_type\": \"\",\n        \"description\": \"\"\n      }\n    },\n    {\n      \"column\": \"lunch\",\n      \"properties\": {\n        \"dtype\": \"number\",\n        \"std\": 0,\n        \"min\": 0,\n        \"max\": 2,\n        \"num_unique_values\": 3,\n        \"samples\": [\n          0,\n          1,\n          2\n        ],\n        \"semantic_type\": \"\",\n        \"description\": \"\"\n      }\n    },\n    {\n      \"column\": \"dinner\",\n      \"properties\": {\n        \"dtype\": \"number\",\n        \"std\": 0,\n        \"min\": 0,\n        \"max\": 2,\n        \"num_unique_values\": 3,\n        \"samples\": [\n          0,\n          1,\n          2\n        ],\n        \"semantic_type\": \"\",\n        \"description\": \"\"\n      }\n    },\n    {\n      \"column\": \"exercise\",\n      \"properties\": {\n        \"dtype\": \"number\",\n        \"std\": 1,\n        \"min\": 0,\n        \"max\": 3,\n        \"num_unique_values\": 4,\n        \"samples\": [\n          1,\n          3,\n          2\n        ],\n        \"semantic_type\": \"\",\n        \"description\": \"\"\n      }\n    },\n    {\n      \"column\": \"body_shape\",\n      \"properties\": {\n        \"dtype\": \"category\",\n        \"num_unique_values\": 3,\n        \"samples\": [\n          \"Skinny\",\n          \"Normal\",\n          \"Fat\"\n        ],\n        \"semantic_type\": \"\",\n        \"description\": \"\"\n      }\n    }\n  ]\n}"
            }
          },
          "metadata": {},
          "execution_count": 4
        }
      ]
    },
    {
      "cell_type": "markdown",
      "source": [
        "## 2) Vector 추출"
      ],
      "metadata": {
        "id": "19cLsPMRnxcY"
      }
    },
    {
      "cell_type": "code",
      "source": [
        "X = df[['calory', 'breakfast', 'lunch', 'dinner', 'exercise']]\n",
        "X.head()"
      ],
      "metadata": {
        "colab": {
          "base_uri": "https://localhost:8080/",
          "height": 206
        },
        "id": "ZY6CS8uDnzxP",
        "outputId": "6f46bfb9-38e1-4efe-b300-f9c1b2782f53"
      },
      "execution_count": 5,
      "outputs": [
        {
          "output_type": "execute_result",
          "data": {
            "text/plain": [
              "   calory  breakfast  lunch  dinner  exercise\n",
              "0    1200          1      0       0         2\n",
              "1    2800          1      1       1         1\n",
              "2    3500          2      2       1         0\n",
              "3    1400          0      1       0         3\n",
              "4    5000          2      2       2         0"
            ],
            "text/html": [
              "\n",
              "  <div id=\"df-e43894b5-be91-4dcc-91f7-4c90e2963fe5\" class=\"colab-df-container\">\n",
              "    <div>\n",
              "<style scoped>\n",
              "    .dataframe tbody tr th:only-of-type {\n",
              "        vertical-align: middle;\n",
              "    }\n",
              "\n",
              "    .dataframe tbody tr th {\n",
              "        vertical-align: top;\n",
              "    }\n",
              "\n",
              "    .dataframe thead th {\n",
              "        text-align: right;\n",
              "    }\n",
              "</style>\n",
              "<table border=\"1\" class=\"dataframe\">\n",
              "  <thead>\n",
              "    <tr style=\"text-align: right;\">\n",
              "      <th></th>\n",
              "      <th>calory</th>\n",
              "      <th>breakfast</th>\n",
              "      <th>lunch</th>\n",
              "      <th>dinner</th>\n",
              "      <th>exercise</th>\n",
              "    </tr>\n",
              "  </thead>\n",
              "  <tbody>\n",
              "    <tr>\n",
              "      <th>0</th>\n",
              "      <td>1200</td>\n",
              "      <td>1</td>\n",
              "      <td>0</td>\n",
              "      <td>0</td>\n",
              "      <td>2</td>\n",
              "    </tr>\n",
              "    <tr>\n",
              "      <th>1</th>\n",
              "      <td>2800</td>\n",
              "      <td>1</td>\n",
              "      <td>1</td>\n",
              "      <td>1</td>\n",
              "      <td>1</td>\n",
              "    </tr>\n",
              "    <tr>\n",
              "      <th>2</th>\n",
              "      <td>3500</td>\n",
              "      <td>2</td>\n",
              "      <td>2</td>\n",
              "      <td>1</td>\n",
              "      <td>0</td>\n",
              "    </tr>\n",
              "    <tr>\n",
              "      <th>3</th>\n",
              "      <td>1400</td>\n",
              "      <td>0</td>\n",
              "      <td>1</td>\n",
              "      <td>0</td>\n",
              "      <td>3</td>\n",
              "    </tr>\n",
              "    <tr>\n",
              "      <th>4</th>\n",
              "      <td>5000</td>\n",
              "      <td>2</td>\n",
              "      <td>2</td>\n",
              "      <td>2</td>\n",
              "      <td>0</td>\n",
              "    </tr>\n",
              "  </tbody>\n",
              "</table>\n",
              "</div>\n",
              "    <div class=\"colab-df-buttons\">\n",
              "\n",
              "  <div class=\"colab-df-container\">\n",
              "    <button class=\"colab-df-convert\" onclick=\"convertToInteractive('df-e43894b5-be91-4dcc-91f7-4c90e2963fe5')\"\n",
              "            title=\"Convert this dataframe to an interactive table.\"\n",
              "            style=\"display:none;\">\n",
              "\n",
              "  <svg xmlns=\"http://www.w3.org/2000/svg\" height=\"24px\" viewBox=\"0 -960 960 960\">\n",
              "    <path d=\"M120-120v-720h720v720H120Zm60-500h600v-160H180v160Zm220 220h160v-160H400v160Zm0 220h160v-160H400v160ZM180-400h160v-160H180v160Zm440 0h160v-160H620v160ZM180-180h160v-160H180v160Zm440 0h160v-160H620v160Z\"/>\n",
              "  </svg>\n",
              "    </button>\n",
              "\n",
              "  <style>\n",
              "    .colab-df-container {\n",
              "      display:flex;\n",
              "      gap: 12px;\n",
              "    }\n",
              "\n",
              "    .colab-df-convert {\n",
              "      background-color: #E8F0FE;\n",
              "      border: none;\n",
              "      border-radius: 50%;\n",
              "      cursor: pointer;\n",
              "      display: none;\n",
              "      fill: #1967D2;\n",
              "      height: 32px;\n",
              "      padding: 0 0 0 0;\n",
              "      width: 32px;\n",
              "    }\n",
              "\n",
              "    .colab-df-convert:hover {\n",
              "      background-color: #E2EBFA;\n",
              "      box-shadow: 0px 1px 2px rgba(60, 64, 67, 0.3), 0px 1px 3px 1px rgba(60, 64, 67, 0.15);\n",
              "      fill: #174EA6;\n",
              "    }\n",
              "\n",
              "    .colab-df-buttons div {\n",
              "      margin-bottom: 4px;\n",
              "    }\n",
              "\n",
              "    [theme=dark] .colab-df-convert {\n",
              "      background-color: #3B4455;\n",
              "      fill: #D2E3FC;\n",
              "    }\n",
              "\n",
              "    [theme=dark] .colab-df-convert:hover {\n",
              "      background-color: #434B5C;\n",
              "      box-shadow: 0px 1px 3px 1px rgba(0, 0, 0, 0.15);\n",
              "      filter: drop-shadow(0px 1px 2px rgba(0, 0, 0, 0.3));\n",
              "      fill: #FFFFFF;\n",
              "    }\n",
              "  </style>\n",
              "\n",
              "    <script>\n",
              "      const buttonEl =\n",
              "        document.querySelector('#df-e43894b5-be91-4dcc-91f7-4c90e2963fe5 button.colab-df-convert');\n",
              "      buttonEl.style.display =\n",
              "        google.colab.kernel.accessAllowed ? 'block' : 'none';\n",
              "\n",
              "      async function convertToInteractive(key) {\n",
              "        const element = document.querySelector('#df-e43894b5-be91-4dcc-91f7-4c90e2963fe5');\n",
              "        const dataTable =\n",
              "          await google.colab.kernel.invokeFunction('convertToInteractive',\n",
              "                                                    [key], {});\n",
              "        if (!dataTable) return;\n",
              "\n",
              "        const docLinkHtml = 'Like what you see? Visit the ' +\n",
              "          '<a target=\"_blank\" href=https://colab.research.google.com/notebooks/data_table.ipynb>data table notebook</a>'\n",
              "          + ' to learn more about interactive tables.';\n",
              "        element.innerHTML = '';\n",
              "        dataTable['output_type'] = 'display_data';\n",
              "        await google.colab.output.renderOutput(dataTable, element);\n",
              "        const docLink = document.createElement('div');\n",
              "        docLink.innerHTML = docLinkHtml;\n",
              "        element.appendChild(docLink);\n",
              "      }\n",
              "    </script>\n",
              "  </div>\n",
              "\n",
              "\n",
              "    <div id=\"df-c7a061ed-87d0-4bca-a838-bb30b9e3b4bb\">\n",
              "      <button class=\"colab-df-quickchart\" onclick=\"quickchart('df-c7a061ed-87d0-4bca-a838-bb30b9e3b4bb')\"\n",
              "                title=\"Suggest charts\"\n",
              "                style=\"display:none;\">\n",
              "\n",
              "<svg xmlns=\"http://www.w3.org/2000/svg\" height=\"24px\"viewBox=\"0 0 24 24\"\n",
              "     width=\"24px\">\n",
              "    <g>\n",
              "        <path d=\"M19 3H5c-1.1 0-2 .9-2 2v14c0 1.1.9 2 2 2h14c1.1 0 2-.9 2-2V5c0-1.1-.9-2-2-2zM9 17H7v-7h2v7zm4 0h-2V7h2v10zm4 0h-2v-4h2v4z\"/>\n",
              "    </g>\n",
              "</svg>\n",
              "      </button>\n",
              "\n",
              "<style>\n",
              "  .colab-df-quickchart {\n",
              "      --bg-color: #E8F0FE;\n",
              "      --fill-color: #1967D2;\n",
              "      --hover-bg-color: #E2EBFA;\n",
              "      --hover-fill-color: #174EA6;\n",
              "      --disabled-fill-color: #AAA;\n",
              "      --disabled-bg-color: #DDD;\n",
              "  }\n",
              "\n",
              "  [theme=dark] .colab-df-quickchart {\n",
              "      --bg-color: #3B4455;\n",
              "      --fill-color: #D2E3FC;\n",
              "      --hover-bg-color: #434B5C;\n",
              "      --hover-fill-color: #FFFFFF;\n",
              "      --disabled-bg-color: #3B4455;\n",
              "      --disabled-fill-color: #666;\n",
              "  }\n",
              "\n",
              "  .colab-df-quickchart {\n",
              "    background-color: var(--bg-color);\n",
              "    border: none;\n",
              "    border-radius: 50%;\n",
              "    cursor: pointer;\n",
              "    display: none;\n",
              "    fill: var(--fill-color);\n",
              "    height: 32px;\n",
              "    padding: 0;\n",
              "    width: 32px;\n",
              "  }\n",
              "\n",
              "  .colab-df-quickchart:hover {\n",
              "    background-color: var(--hover-bg-color);\n",
              "    box-shadow: 0 1px 2px rgba(60, 64, 67, 0.3), 0 1px 3px 1px rgba(60, 64, 67, 0.15);\n",
              "    fill: var(--button-hover-fill-color);\n",
              "  }\n",
              "\n",
              "  .colab-df-quickchart-complete:disabled,\n",
              "  .colab-df-quickchart-complete:disabled:hover {\n",
              "    background-color: var(--disabled-bg-color);\n",
              "    fill: var(--disabled-fill-color);\n",
              "    box-shadow: none;\n",
              "  }\n",
              "\n",
              "  .colab-df-spinner {\n",
              "    border: 2px solid var(--fill-color);\n",
              "    border-color: transparent;\n",
              "    border-bottom-color: var(--fill-color);\n",
              "    animation:\n",
              "      spin 1s steps(1) infinite;\n",
              "  }\n",
              "\n",
              "  @keyframes spin {\n",
              "    0% {\n",
              "      border-color: transparent;\n",
              "      border-bottom-color: var(--fill-color);\n",
              "      border-left-color: var(--fill-color);\n",
              "    }\n",
              "    20% {\n",
              "      border-color: transparent;\n",
              "      border-left-color: var(--fill-color);\n",
              "      border-top-color: var(--fill-color);\n",
              "    }\n",
              "    30% {\n",
              "      border-color: transparent;\n",
              "      border-left-color: var(--fill-color);\n",
              "      border-top-color: var(--fill-color);\n",
              "      border-right-color: var(--fill-color);\n",
              "    }\n",
              "    40% {\n",
              "      border-color: transparent;\n",
              "      border-right-color: var(--fill-color);\n",
              "      border-top-color: var(--fill-color);\n",
              "    }\n",
              "    60% {\n",
              "      border-color: transparent;\n",
              "      border-right-color: var(--fill-color);\n",
              "    }\n",
              "    80% {\n",
              "      border-color: transparent;\n",
              "      border-right-color: var(--fill-color);\n",
              "      border-bottom-color: var(--fill-color);\n",
              "    }\n",
              "    90% {\n",
              "      border-color: transparent;\n",
              "      border-bottom-color: var(--fill-color);\n",
              "    }\n",
              "  }\n",
              "</style>\n",
              "\n",
              "      <script>\n",
              "        async function quickchart(key) {\n",
              "          const quickchartButtonEl =\n",
              "            document.querySelector('#' + key + ' button');\n",
              "          quickchartButtonEl.disabled = true;  // To prevent multiple clicks.\n",
              "          quickchartButtonEl.classList.add('colab-df-spinner');\n",
              "          try {\n",
              "            const charts = await google.colab.kernel.invokeFunction(\n",
              "                'suggestCharts', [key], {});\n",
              "          } catch (error) {\n",
              "            console.error('Error during call to suggestCharts:', error);\n",
              "          }\n",
              "          quickchartButtonEl.classList.remove('colab-df-spinner');\n",
              "          quickchartButtonEl.classList.add('colab-df-quickchart-complete');\n",
              "        }\n",
              "        (() => {\n",
              "          let quickchartButtonEl =\n",
              "            document.querySelector('#df-c7a061ed-87d0-4bca-a838-bb30b9e3b4bb button');\n",
              "          quickchartButtonEl.style.display =\n",
              "            google.colab.kernel.accessAllowed ? 'block' : 'none';\n",
              "        })();\n",
              "      </script>\n",
              "    </div>\n",
              "\n",
              "    </div>\n",
              "  </div>\n"
            ],
            "application/vnd.google.colaboratory.intrinsic+json": {
              "type": "dataframe",
              "variable_name": "X",
              "summary": "{\n  \"name\": \"X\",\n  \"rows\": 10,\n  \"fields\": [\n    {\n      \"column\": \"calory\",\n      \"properties\": {\n        \"dtype\": \"number\",\n        \"std\": 1231,\n        \"min\": 1200,\n        \"max\": 5000,\n        \"num_unique_values\": 9,\n        \"samples\": [\n          4000,\n          2800,\n          1300\n        ],\n        \"semantic_type\": \"\",\n        \"description\": \"\"\n      }\n    },\n    {\n      \"column\": \"breakfast\",\n      \"properties\": {\n        \"dtype\": \"number\",\n        \"std\": 0,\n        \"min\": 0,\n        \"max\": 2,\n        \"num_unique_values\": 3,\n        \"samples\": [\n          1,\n          2,\n          0\n        ],\n        \"semantic_type\": \"\",\n        \"description\": \"\"\n      }\n    },\n    {\n      \"column\": \"lunch\",\n      \"properties\": {\n        \"dtype\": \"number\",\n        \"std\": 0,\n        \"min\": 0,\n        \"max\": 2,\n        \"num_unique_values\": 3,\n        \"samples\": [\n          0,\n          1,\n          2\n        ],\n        \"semantic_type\": \"\",\n        \"description\": \"\"\n      }\n    },\n    {\n      \"column\": \"dinner\",\n      \"properties\": {\n        \"dtype\": \"number\",\n        \"std\": 0,\n        \"min\": 0,\n        \"max\": 2,\n        \"num_unique_values\": 3,\n        \"samples\": [\n          0,\n          1,\n          2\n        ],\n        \"semantic_type\": \"\",\n        \"description\": \"\"\n      }\n    },\n    {\n      \"column\": \"exercise\",\n      \"properties\": {\n        \"dtype\": \"number\",\n        \"std\": 1,\n        \"min\": 0,\n        \"max\": 3,\n        \"num_unique_values\": 4,\n        \"samples\": [\n          1,\n          3,\n          2\n        ],\n        \"semantic_type\": \"\",\n        \"description\": \"\"\n      }\n    }\n  ]\n}"
            }
          },
          "metadata": {},
          "execution_count": 5
        }
      ]
    },
    {
      "cell_type": "code",
      "source": [
        "Y = df[['body_shape']]\n",
        "Y.head()"
      ],
      "metadata": {
        "colab": {
          "base_uri": "https://localhost:8080/",
          "height": 206
        },
        "id": "0c3tem7pn9yc",
        "outputId": "fa026a50-14bc-45d9-ef51-4bd6a254d3a5"
      },
      "execution_count": 6,
      "outputs": [
        {
          "output_type": "execute_result",
          "data": {
            "text/plain": [
              "  body_shape\n",
              "0     Skinny\n",
              "1     Normal\n",
              "2        Fat\n",
              "3     Skinny\n",
              "4        Fat"
            ],
            "text/html": [
              "\n",
              "  <div id=\"df-90704c98-e54d-4a43-82d4-82661c3cfc79\" class=\"colab-df-container\">\n",
              "    <div>\n",
              "<style scoped>\n",
              "    .dataframe tbody tr th:only-of-type {\n",
              "        vertical-align: middle;\n",
              "    }\n",
              "\n",
              "    .dataframe tbody tr th {\n",
              "        vertical-align: top;\n",
              "    }\n",
              "\n",
              "    .dataframe thead th {\n",
              "        text-align: right;\n",
              "    }\n",
              "</style>\n",
              "<table border=\"1\" class=\"dataframe\">\n",
              "  <thead>\n",
              "    <tr style=\"text-align: right;\">\n",
              "      <th></th>\n",
              "      <th>body_shape</th>\n",
              "    </tr>\n",
              "  </thead>\n",
              "  <tbody>\n",
              "    <tr>\n",
              "      <th>0</th>\n",
              "      <td>Skinny</td>\n",
              "    </tr>\n",
              "    <tr>\n",
              "      <th>1</th>\n",
              "      <td>Normal</td>\n",
              "    </tr>\n",
              "    <tr>\n",
              "      <th>2</th>\n",
              "      <td>Fat</td>\n",
              "    </tr>\n",
              "    <tr>\n",
              "      <th>3</th>\n",
              "      <td>Skinny</td>\n",
              "    </tr>\n",
              "    <tr>\n",
              "      <th>4</th>\n",
              "      <td>Fat</td>\n",
              "    </tr>\n",
              "  </tbody>\n",
              "</table>\n",
              "</div>\n",
              "    <div class=\"colab-df-buttons\">\n",
              "\n",
              "  <div class=\"colab-df-container\">\n",
              "    <button class=\"colab-df-convert\" onclick=\"convertToInteractive('df-90704c98-e54d-4a43-82d4-82661c3cfc79')\"\n",
              "            title=\"Convert this dataframe to an interactive table.\"\n",
              "            style=\"display:none;\">\n",
              "\n",
              "  <svg xmlns=\"http://www.w3.org/2000/svg\" height=\"24px\" viewBox=\"0 -960 960 960\">\n",
              "    <path d=\"M120-120v-720h720v720H120Zm60-500h600v-160H180v160Zm220 220h160v-160H400v160Zm0 220h160v-160H400v160ZM180-400h160v-160H180v160Zm440 0h160v-160H620v160ZM180-180h160v-160H180v160Zm440 0h160v-160H620v160Z\"/>\n",
              "  </svg>\n",
              "    </button>\n",
              "\n",
              "  <style>\n",
              "    .colab-df-container {\n",
              "      display:flex;\n",
              "      gap: 12px;\n",
              "    }\n",
              "\n",
              "    .colab-df-convert {\n",
              "      background-color: #E8F0FE;\n",
              "      border: none;\n",
              "      border-radius: 50%;\n",
              "      cursor: pointer;\n",
              "      display: none;\n",
              "      fill: #1967D2;\n",
              "      height: 32px;\n",
              "      padding: 0 0 0 0;\n",
              "      width: 32px;\n",
              "    }\n",
              "\n",
              "    .colab-df-convert:hover {\n",
              "      background-color: #E2EBFA;\n",
              "      box-shadow: 0px 1px 2px rgba(60, 64, 67, 0.3), 0px 1px 3px 1px rgba(60, 64, 67, 0.15);\n",
              "      fill: #174EA6;\n",
              "    }\n",
              "\n",
              "    .colab-df-buttons div {\n",
              "      margin-bottom: 4px;\n",
              "    }\n",
              "\n",
              "    [theme=dark] .colab-df-convert {\n",
              "      background-color: #3B4455;\n",
              "      fill: #D2E3FC;\n",
              "    }\n",
              "\n",
              "    [theme=dark] .colab-df-convert:hover {\n",
              "      background-color: #434B5C;\n",
              "      box-shadow: 0px 1px 3px 1px rgba(0, 0, 0, 0.15);\n",
              "      filter: drop-shadow(0px 1px 2px rgba(0, 0, 0, 0.3));\n",
              "      fill: #FFFFFF;\n",
              "    }\n",
              "  </style>\n",
              "\n",
              "    <script>\n",
              "      const buttonEl =\n",
              "        document.querySelector('#df-90704c98-e54d-4a43-82d4-82661c3cfc79 button.colab-df-convert');\n",
              "      buttonEl.style.display =\n",
              "        google.colab.kernel.accessAllowed ? 'block' : 'none';\n",
              "\n",
              "      async function convertToInteractive(key) {\n",
              "        const element = document.querySelector('#df-90704c98-e54d-4a43-82d4-82661c3cfc79');\n",
              "        const dataTable =\n",
              "          await google.colab.kernel.invokeFunction('convertToInteractive',\n",
              "                                                    [key], {});\n",
              "        if (!dataTable) return;\n",
              "\n",
              "        const docLinkHtml = 'Like what you see? Visit the ' +\n",
              "          '<a target=\"_blank\" href=https://colab.research.google.com/notebooks/data_table.ipynb>data table notebook</a>'\n",
              "          + ' to learn more about interactive tables.';\n",
              "        element.innerHTML = '';\n",
              "        dataTable['output_type'] = 'display_data';\n",
              "        await google.colab.output.renderOutput(dataTable, element);\n",
              "        const docLink = document.createElement('div');\n",
              "        docLink.innerHTML = docLinkHtml;\n",
              "        element.appendChild(docLink);\n",
              "      }\n",
              "    </script>\n",
              "  </div>\n",
              "\n",
              "\n",
              "    <div id=\"df-edb06e5e-8fb1-40f4-b82c-8850ac7d0d5a\">\n",
              "      <button class=\"colab-df-quickchart\" onclick=\"quickchart('df-edb06e5e-8fb1-40f4-b82c-8850ac7d0d5a')\"\n",
              "                title=\"Suggest charts\"\n",
              "                style=\"display:none;\">\n",
              "\n",
              "<svg xmlns=\"http://www.w3.org/2000/svg\" height=\"24px\"viewBox=\"0 0 24 24\"\n",
              "     width=\"24px\">\n",
              "    <g>\n",
              "        <path d=\"M19 3H5c-1.1 0-2 .9-2 2v14c0 1.1.9 2 2 2h14c1.1 0 2-.9 2-2V5c0-1.1-.9-2-2-2zM9 17H7v-7h2v7zm4 0h-2V7h2v10zm4 0h-2v-4h2v4z\"/>\n",
              "    </g>\n",
              "</svg>\n",
              "      </button>\n",
              "\n",
              "<style>\n",
              "  .colab-df-quickchart {\n",
              "      --bg-color: #E8F0FE;\n",
              "      --fill-color: #1967D2;\n",
              "      --hover-bg-color: #E2EBFA;\n",
              "      --hover-fill-color: #174EA6;\n",
              "      --disabled-fill-color: #AAA;\n",
              "      --disabled-bg-color: #DDD;\n",
              "  }\n",
              "\n",
              "  [theme=dark] .colab-df-quickchart {\n",
              "      --bg-color: #3B4455;\n",
              "      --fill-color: #D2E3FC;\n",
              "      --hover-bg-color: #434B5C;\n",
              "      --hover-fill-color: #FFFFFF;\n",
              "      --disabled-bg-color: #3B4455;\n",
              "      --disabled-fill-color: #666;\n",
              "  }\n",
              "\n",
              "  .colab-df-quickchart {\n",
              "    background-color: var(--bg-color);\n",
              "    border: none;\n",
              "    border-radius: 50%;\n",
              "    cursor: pointer;\n",
              "    display: none;\n",
              "    fill: var(--fill-color);\n",
              "    height: 32px;\n",
              "    padding: 0;\n",
              "    width: 32px;\n",
              "  }\n",
              "\n",
              "  .colab-df-quickchart:hover {\n",
              "    background-color: var(--hover-bg-color);\n",
              "    box-shadow: 0 1px 2px rgba(60, 64, 67, 0.3), 0 1px 3px 1px rgba(60, 64, 67, 0.15);\n",
              "    fill: var(--button-hover-fill-color);\n",
              "  }\n",
              "\n",
              "  .colab-df-quickchart-complete:disabled,\n",
              "  .colab-df-quickchart-complete:disabled:hover {\n",
              "    background-color: var(--disabled-bg-color);\n",
              "    fill: var(--disabled-fill-color);\n",
              "    box-shadow: none;\n",
              "  }\n",
              "\n",
              "  .colab-df-spinner {\n",
              "    border: 2px solid var(--fill-color);\n",
              "    border-color: transparent;\n",
              "    border-bottom-color: var(--fill-color);\n",
              "    animation:\n",
              "      spin 1s steps(1) infinite;\n",
              "  }\n",
              "\n",
              "  @keyframes spin {\n",
              "    0% {\n",
              "      border-color: transparent;\n",
              "      border-bottom-color: var(--fill-color);\n",
              "      border-left-color: var(--fill-color);\n",
              "    }\n",
              "    20% {\n",
              "      border-color: transparent;\n",
              "      border-left-color: var(--fill-color);\n",
              "      border-top-color: var(--fill-color);\n",
              "    }\n",
              "    30% {\n",
              "      border-color: transparent;\n",
              "      border-left-color: var(--fill-color);\n",
              "      border-top-color: var(--fill-color);\n",
              "      border-right-color: var(--fill-color);\n",
              "    }\n",
              "    40% {\n",
              "      border-color: transparent;\n",
              "      border-right-color: var(--fill-color);\n",
              "      border-top-color: var(--fill-color);\n",
              "    }\n",
              "    60% {\n",
              "      border-color: transparent;\n",
              "      border-right-color: var(--fill-color);\n",
              "    }\n",
              "    80% {\n",
              "      border-color: transparent;\n",
              "      border-right-color: var(--fill-color);\n",
              "      border-bottom-color: var(--fill-color);\n",
              "    }\n",
              "    90% {\n",
              "      border-color: transparent;\n",
              "      border-bottom-color: var(--fill-color);\n",
              "    }\n",
              "  }\n",
              "</style>\n",
              "\n",
              "      <script>\n",
              "        async function quickchart(key) {\n",
              "          const quickchartButtonEl =\n",
              "            document.querySelector('#' + key + ' button');\n",
              "          quickchartButtonEl.disabled = true;  // To prevent multiple clicks.\n",
              "          quickchartButtonEl.classList.add('colab-df-spinner');\n",
              "          try {\n",
              "            const charts = await google.colab.kernel.invokeFunction(\n",
              "                'suggestCharts', [key], {});\n",
              "          } catch (error) {\n",
              "            console.error('Error during call to suggestCharts:', error);\n",
              "          }\n",
              "          quickchartButtonEl.classList.remove('colab-df-spinner');\n",
              "          quickchartButtonEl.classList.add('colab-df-quickchart-complete');\n",
              "        }\n",
              "        (() => {\n",
              "          let quickchartButtonEl =\n",
              "            document.querySelector('#df-edb06e5e-8fb1-40f4-b82c-8850ac7d0d5a button');\n",
              "          quickchartButtonEl.style.display =\n",
              "            google.colab.kernel.accessAllowed ? 'block' : 'none';\n",
              "        })();\n",
              "      </script>\n",
              "    </div>\n",
              "\n",
              "    </div>\n",
              "  </div>\n"
            ],
            "application/vnd.google.colaboratory.intrinsic+json": {
              "type": "dataframe",
              "variable_name": "Y",
              "summary": "{\n  \"name\": \"Y\",\n  \"rows\": 10,\n  \"fields\": [\n    {\n      \"column\": \"body_shape\",\n      \"properties\": {\n        \"dtype\": \"category\",\n        \"num_unique_values\": 3,\n        \"samples\": [\n          \"Skinny\",\n          \"Normal\",\n          \"Fat\"\n        ],\n        \"semantic_type\": \"\",\n        \"description\": \"\"\n      }\n    }\n  ]\n}"
            }
          },
          "metadata": {},
          "execution_count": 6
        }
      ]
    },
    {
      "cell_type": "markdown",
      "source": [
        "## 3) feature vector 표준화"
      ],
      "metadata": {
        "id": "BClUePB4qKpt"
      }
    },
    {
      "cell_type": "code",
      "source": [
        "from sklearn.preprocessing import StandardScaler\n",
        "x_std = StandardScaler().fit_transform(X)\n",
        "x_std"
      ],
      "metadata": {
        "colab": {
          "base_uri": "https://localhost:8080/"
        },
        "id": "IUAbxiqsqN_w",
        "outputId": "d36b798e-6dd3-40c0-f966-568ebf6e0de8"
      },
      "execution_count": 8,
      "outputs": [
        {
          "output_type": "execute_result",
          "data": {
            "text/plain": [
              "array([[-1.35205803,  0.        , -1.3764944 , -1.28571429,  1.        ],\n",
              "       [ 0.01711466,  0.        , -0.22941573,  0.14285714,  0.        ],\n",
              "       [ 0.61612771,  1.29099445,  0.91766294,  0.14285714, -1.        ],\n",
              "       [-1.18091145, -1.29099445, -0.22941573, -1.28571429,  2.        ],\n",
              "       [ 1.89972711,  1.29099445,  0.91766294,  1.57142857, -1.        ],\n",
              "       [-1.26648474, -1.29099445, -1.3764944 ,  0.14285714,  1.        ],\n",
              "       [ 0.18826125,  0.        , -1.3764944 ,  0.14285714,  0.        ],\n",
              "       [ 1.04399418,  1.29099445,  0.91766294,  1.57142857, -1.        ],\n",
              "       [-0.15403193, -1.29099445,  0.91766294, -1.28571429, -1.        ],\n",
              "       [ 0.18826125,  0.        ,  0.91766294,  0.14285714,  0.        ]])"
            ]
          },
          "metadata": {},
          "execution_count": 8
        }
      ]
    },
    {
      "cell_type": "code",
      "source": [
        "x_std.mean()\n",
        "x_std.std()"
      ],
      "metadata": {
        "colab": {
          "base_uri": "https://localhost:8080/"
        },
        "id": "r-nOkdNIqX0D",
        "outputId": "54cc4842-a9b0-42b9-8458-383fb62f6178"
      },
      "execution_count": 10,
      "outputs": [
        {
          "output_type": "execute_result",
          "data": {
            "text/plain": [
              "np.float64(1.0)"
            ]
          },
          "metadata": {},
          "execution_count": 10
        }
      ]
    },
    {
      "cell_type": "code",
      "source": [
        "x_std.T"
      ],
      "metadata": {
        "colab": {
          "base_uri": "https://localhost:8080/"
        },
        "id": "B34WYVKdqzZ8",
        "outputId": "bf6b8a20-c68d-4402-ca05-535725d77e39"
      },
      "execution_count": 11,
      "outputs": [
        {
          "output_type": "execute_result",
          "data": {
            "text/plain": [
              "array([[-1.35205803,  0.01711466,  0.61612771, -1.18091145,  1.89972711,\n",
              "        -1.26648474,  0.18826125,  1.04399418, -0.15403193,  0.18826125],\n",
              "       [ 0.        ,  0.        ,  1.29099445, -1.29099445,  1.29099445,\n",
              "        -1.29099445,  0.        ,  1.29099445, -1.29099445,  0.        ],\n",
              "       [-1.3764944 , -0.22941573,  0.91766294, -0.22941573,  0.91766294,\n",
              "        -1.3764944 , -1.3764944 ,  0.91766294,  0.91766294,  0.91766294],\n",
              "       [-1.28571429,  0.14285714,  0.14285714, -1.28571429,  1.57142857,\n",
              "         0.14285714,  0.14285714,  1.57142857, -1.28571429,  0.14285714],\n",
              "       [ 1.        ,  0.        , -1.        ,  2.        , -1.        ,\n",
              "         1.        ,  0.        , -1.        , -1.        ,  0.        ]])"
            ]
          },
          "metadata": {},
          "execution_count": 11
        }
      ]
    },
    {
      "cell_type": "markdown",
      "source": [
        "## 4) feature간 공분산 행렬계산"
      ],
      "metadata": {
        "id": "TgLUW9m1rBsg"
      }
    },
    {
      "cell_type": "code",
      "source": [
        "import numpy as np\n",
        "\n",
        "# features are columns from x_std\n",
        "features = x_std.T\n",
        "covariance_matrix = np.cov(features)\n",
        "\n",
        "covariance_matrix"
      ],
      "metadata": {
        "colab": {
          "base_uri": "https://localhost:8080/"
        },
        "id": "Si7rC9vZrD8q",
        "outputId": "d228eb3b-f0cc-42fd-fe96-2ed2d5ce369e"
      },
      "execution_count": 12,
      "outputs": [
        {
          "output_type": "execute_result",
          "data": {
            "text/plain": [
              "array([[ 1.11111111,  0.88379717,  0.76782385,  0.89376551, -0.93179808],\n",
              "       [ 0.88379717,  1.11111111,  0.49362406,  0.81967902, -0.71721914],\n",
              "       [ 0.76782385,  0.49362406,  1.11111111,  0.40056715, -0.76471911],\n",
              "       [ 0.89376551,  0.81967902,  0.40056715,  1.11111111, -0.63492063],\n",
              "       [-0.93179808, -0.71721914, -0.76471911, -0.63492063,  1.11111111]])"
            ]
          },
          "metadata": {},
          "execution_count": 12
        }
      ]
    },
    {
      "cell_type": "code",
      "source": [
        "x_std.T.dot(x_std)/9"
      ],
      "metadata": {
        "colab": {
          "base_uri": "https://localhost:8080/"
        },
        "id": "U4TXAke9tjJH",
        "outputId": "0639a2ce-904f-4cf6-87b5-22f887db63a1"
      },
      "execution_count": 13,
      "outputs": [
        {
          "output_type": "execute_result",
          "data": {
            "text/plain": [
              "array([[ 1.11111111,  0.88379717,  0.76782385,  0.89376551, -0.93179808],\n",
              "       [ 0.88379717,  1.11111111,  0.49362406,  0.81967902, -0.71721914],\n",
              "       [ 0.76782385,  0.49362406,  1.11111111,  0.40056715, -0.76471911],\n",
              "       [ 0.89376551,  0.81967902,  0.40056715,  1.11111111, -0.63492063],\n",
              "       [-0.93179808, -0.71721914, -0.76471911, -0.63492063,  1.11111111]])"
            ]
          },
          "metadata": {},
          "execution_count": 13
        }
      ]
    },
    {
      "cell_type": "markdown",
      "source": [
        "## 5) 고유 벡터(Eigen Vectors)와 고유값(Eigen Values) 산출"
      ],
      "metadata": {
        "id": "YbqSq_cIt4Hv"
      }
    },
    {
      "cell_type": "code",
      "source": [
        "eig_vals, eig_vecs = np.linalg.eig(covariance_matrix)\n",
        "print(f'Eigen Values: \\n {eig_vals}')\n",
        "print(f'Eigen Vectors: \\n {eig_vecs}')"
      ],
      "metadata": {
        "colab": {
          "base_uri": "https://localhost:8080/"
        },
        "id": "raK8HoR0t-kP",
        "outputId": "bd32149b-9b8a-470d-c6b1-fa2cd757250e"
      },
      "execution_count": 15,
      "outputs": [
        {
          "output_type": "stream",
          "name": "stdout",
          "text": [
            "Eigen Values: \n",
            " [4.0657343  0.8387565  0.07629538 0.27758568 0.2971837 ]\n",
            "Eigen Vectors: \n",
            " [[-0.508005   -0.0169937  -0.84711404  0.11637853  0.10244985]\n",
            " [-0.44660335 -0.36890361  0.12808055 -0.63112016 -0.49973822]\n",
            " [-0.38377913  0.70804084  0.20681005 -0.40305226  0.38232213]\n",
            " [-0.42845209 -0.53194699  0.3694462   0.22228235  0.58954327]\n",
            " [ 0.46002038 -0.2816592  -0.29450345 -0.61341895  0.49601841]]\n"
          ]
        }
      ]
    },
    {
      "cell_type": "code",
      "source": [
        "eig_vals[0] / sum(eig_vals)\n",
        "# 1개의 차원으로 축소했을 때, 73%의 정보를 보유"
      ],
      "metadata": {
        "colab": {
          "base_uri": "https://localhost:8080/"
        },
        "id": "CRH3sMYfuQFg",
        "outputId": "59d175ce-555a-4c31-c150-568ed06fde0e"
      },
      "execution_count": 17,
      "outputs": [
        {
          "output_type": "execute_result",
          "data": {
            "text/plain": [
              "np.float64(0.7318321731427544)"
            ]
          },
          "metadata": {},
          "execution_count": 17
        }
      ]
    },
    {
      "cell_type": "markdown",
      "source": [
        "## 6) 고유벡터(Eigen Vector)를 기준으로 데이터를 투영"
      ],
      "metadata": {
        "id": "PM4rkciYuank"
      }
    },
    {
      "cell_type": "code",
      "source": [
        "eig_vecs.T[0]"
      ],
      "metadata": {
        "colab": {
          "base_uri": "https://localhost:8080/"
        },
        "id": "Od6yzHsTufPn",
        "outputId": "35c8332b-20f0-48e5-e1d4-91225af1b26a"
      },
      "execution_count": 18,
      "outputs": [
        {
          "output_type": "execute_result",
          "data": {
            "text/plain": [
              "array([-0.508005  , -0.44660335, -0.38377913, -0.42845209,  0.46002038])"
            ]
          },
          "metadata": {},
          "execution_count": 18
        }
      ]
    },
    {
      "cell_type": "code",
      "source": [
        "projected_X = x_std.dot(eig_vecs.T[0])\n",
        "projected_X"
      ],
      "metadata": {
        "colab": {
          "base_uri": "https://localhost:8080/"
        },
        "id": "hZw5QpFjuzJZ",
        "outputId": "cd6a1e30-6cf6-47eb-ee38-85ef50c51e43"
      },
      "execution_count": 19,
      "outputs": [
        {
          "output_type": "execute_result",
          "data": {
            "text/plain": [
              "array([ 2.22600943,  0.0181432 , -1.76296611,  2.73542407, -3.02711544,\n",
              "        2.14702579,  0.37142473, -2.59239883,  0.39347815, -0.50902498])"
            ]
          },
          "metadata": {},
          "execution_count": 19
        }
      ]
    },
    {
      "cell_type": "code",
      "source": [
        "result = pd.DataFrame(projected_X, columns=['PC1'])\n",
        "result['y-axis'] = 0.0\n",
        "result['label'] = Y\n",
        "result.head()"
      ],
      "metadata": {
        "colab": {
          "base_uri": "https://localhost:8080/",
          "height": 206
        },
        "id": "idfPq9Hfu8uM",
        "outputId": "c6fb32b4-76fd-4199-8d51-7bc3978f5ab8"
      },
      "execution_count": 20,
      "outputs": [
        {
          "output_type": "execute_result",
          "data": {
            "text/plain": [
              "        PC1  y-axis   label\n",
              "0  2.226009     0.0  Skinny\n",
              "1  0.018143     0.0  Normal\n",
              "2 -1.762966     0.0     Fat\n",
              "3  2.735424     0.0  Skinny\n",
              "4 -3.027115     0.0     Fat"
            ],
            "text/html": [
              "\n",
              "  <div id=\"df-0e9c4b45-a7b2-4114-81f5-e2624a7958f6\" class=\"colab-df-container\">\n",
              "    <div>\n",
              "<style scoped>\n",
              "    .dataframe tbody tr th:only-of-type {\n",
              "        vertical-align: middle;\n",
              "    }\n",
              "\n",
              "    .dataframe tbody tr th {\n",
              "        vertical-align: top;\n",
              "    }\n",
              "\n",
              "    .dataframe thead th {\n",
              "        text-align: right;\n",
              "    }\n",
              "</style>\n",
              "<table border=\"1\" class=\"dataframe\">\n",
              "  <thead>\n",
              "    <tr style=\"text-align: right;\">\n",
              "      <th></th>\n",
              "      <th>PC1</th>\n",
              "      <th>y-axis</th>\n",
              "      <th>label</th>\n",
              "    </tr>\n",
              "  </thead>\n",
              "  <tbody>\n",
              "    <tr>\n",
              "      <th>0</th>\n",
              "      <td>2.226009</td>\n",
              "      <td>0.0</td>\n",
              "      <td>Skinny</td>\n",
              "    </tr>\n",
              "    <tr>\n",
              "      <th>1</th>\n",
              "      <td>0.018143</td>\n",
              "      <td>0.0</td>\n",
              "      <td>Normal</td>\n",
              "    </tr>\n",
              "    <tr>\n",
              "      <th>2</th>\n",
              "      <td>-1.762966</td>\n",
              "      <td>0.0</td>\n",
              "      <td>Fat</td>\n",
              "    </tr>\n",
              "    <tr>\n",
              "      <th>3</th>\n",
              "      <td>2.735424</td>\n",
              "      <td>0.0</td>\n",
              "      <td>Skinny</td>\n",
              "    </tr>\n",
              "    <tr>\n",
              "      <th>4</th>\n",
              "      <td>-3.027115</td>\n",
              "      <td>0.0</td>\n",
              "      <td>Fat</td>\n",
              "    </tr>\n",
              "  </tbody>\n",
              "</table>\n",
              "</div>\n",
              "    <div class=\"colab-df-buttons\">\n",
              "\n",
              "  <div class=\"colab-df-container\">\n",
              "    <button class=\"colab-df-convert\" onclick=\"convertToInteractive('df-0e9c4b45-a7b2-4114-81f5-e2624a7958f6')\"\n",
              "            title=\"Convert this dataframe to an interactive table.\"\n",
              "            style=\"display:none;\">\n",
              "\n",
              "  <svg xmlns=\"http://www.w3.org/2000/svg\" height=\"24px\" viewBox=\"0 -960 960 960\">\n",
              "    <path d=\"M120-120v-720h720v720H120Zm60-500h600v-160H180v160Zm220 220h160v-160H400v160Zm0 220h160v-160H400v160ZM180-400h160v-160H180v160Zm440 0h160v-160H620v160ZM180-180h160v-160H180v160Zm440 0h160v-160H620v160Z\"/>\n",
              "  </svg>\n",
              "    </button>\n",
              "\n",
              "  <style>\n",
              "    .colab-df-container {\n",
              "      display:flex;\n",
              "      gap: 12px;\n",
              "    }\n",
              "\n",
              "    .colab-df-convert {\n",
              "      background-color: #E8F0FE;\n",
              "      border: none;\n",
              "      border-radius: 50%;\n",
              "      cursor: pointer;\n",
              "      display: none;\n",
              "      fill: #1967D2;\n",
              "      height: 32px;\n",
              "      padding: 0 0 0 0;\n",
              "      width: 32px;\n",
              "    }\n",
              "\n",
              "    .colab-df-convert:hover {\n",
              "      background-color: #E2EBFA;\n",
              "      box-shadow: 0px 1px 2px rgba(60, 64, 67, 0.3), 0px 1px 3px 1px rgba(60, 64, 67, 0.15);\n",
              "      fill: #174EA6;\n",
              "    }\n",
              "\n",
              "    .colab-df-buttons div {\n",
              "      margin-bottom: 4px;\n",
              "    }\n",
              "\n",
              "    [theme=dark] .colab-df-convert {\n",
              "      background-color: #3B4455;\n",
              "      fill: #D2E3FC;\n",
              "    }\n",
              "\n",
              "    [theme=dark] .colab-df-convert:hover {\n",
              "      background-color: #434B5C;\n",
              "      box-shadow: 0px 1px 3px 1px rgba(0, 0, 0, 0.15);\n",
              "      filter: drop-shadow(0px 1px 2px rgba(0, 0, 0, 0.3));\n",
              "      fill: #FFFFFF;\n",
              "    }\n",
              "  </style>\n",
              "\n",
              "    <script>\n",
              "      const buttonEl =\n",
              "        document.querySelector('#df-0e9c4b45-a7b2-4114-81f5-e2624a7958f6 button.colab-df-convert');\n",
              "      buttonEl.style.display =\n",
              "        google.colab.kernel.accessAllowed ? 'block' : 'none';\n",
              "\n",
              "      async function convertToInteractive(key) {\n",
              "        const element = document.querySelector('#df-0e9c4b45-a7b2-4114-81f5-e2624a7958f6');\n",
              "        const dataTable =\n",
              "          await google.colab.kernel.invokeFunction('convertToInteractive',\n",
              "                                                    [key], {});\n",
              "        if (!dataTable) return;\n",
              "\n",
              "        const docLinkHtml = 'Like what you see? Visit the ' +\n",
              "          '<a target=\"_blank\" href=https://colab.research.google.com/notebooks/data_table.ipynb>data table notebook</a>'\n",
              "          + ' to learn more about interactive tables.';\n",
              "        element.innerHTML = '';\n",
              "        dataTable['output_type'] = 'display_data';\n",
              "        await google.colab.output.renderOutput(dataTable, element);\n",
              "        const docLink = document.createElement('div');\n",
              "        docLink.innerHTML = docLinkHtml;\n",
              "        element.appendChild(docLink);\n",
              "      }\n",
              "    </script>\n",
              "  </div>\n",
              "\n",
              "\n",
              "    <div id=\"df-ba29bc61-51c3-4724-b14c-9157980468cd\">\n",
              "      <button class=\"colab-df-quickchart\" onclick=\"quickchart('df-ba29bc61-51c3-4724-b14c-9157980468cd')\"\n",
              "                title=\"Suggest charts\"\n",
              "                style=\"display:none;\">\n",
              "\n",
              "<svg xmlns=\"http://www.w3.org/2000/svg\" height=\"24px\"viewBox=\"0 0 24 24\"\n",
              "     width=\"24px\">\n",
              "    <g>\n",
              "        <path d=\"M19 3H5c-1.1 0-2 .9-2 2v14c0 1.1.9 2 2 2h14c1.1 0 2-.9 2-2V5c0-1.1-.9-2-2-2zM9 17H7v-7h2v7zm4 0h-2V7h2v10zm4 0h-2v-4h2v4z\"/>\n",
              "    </g>\n",
              "</svg>\n",
              "      </button>\n",
              "\n",
              "<style>\n",
              "  .colab-df-quickchart {\n",
              "      --bg-color: #E8F0FE;\n",
              "      --fill-color: #1967D2;\n",
              "      --hover-bg-color: #E2EBFA;\n",
              "      --hover-fill-color: #174EA6;\n",
              "      --disabled-fill-color: #AAA;\n",
              "      --disabled-bg-color: #DDD;\n",
              "  }\n",
              "\n",
              "  [theme=dark] .colab-df-quickchart {\n",
              "      --bg-color: #3B4455;\n",
              "      --fill-color: #D2E3FC;\n",
              "      --hover-bg-color: #434B5C;\n",
              "      --hover-fill-color: #FFFFFF;\n",
              "      --disabled-bg-color: #3B4455;\n",
              "      --disabled-fill-color: #666;\n",
              "  }\n",
              "\n",
              "  .colab-df-quickchart {\n",
              "    background-color: var(--bg-color);\n",
              "    border: none;\n",
              "    border-radius: 50%;\n",
              "    cursor: pointer;\n",
              "    display: none;\n",
              "    fill: var(--fill-color);\n",
              "    height: 32px;\n",
              "    padding: 0;\n",
              "    width: 32px;\n",
              "  }\n",
              "\n",
              "  .colab-df-quickchart:hover {\n",
              "    background-color: var(--hover-bg-color);\n",
              "    box-shadow: 0 1px 2px rgba(60, 64, 67, 0.3), 0 1px 3px 1px rgba(60, 64, 67, 0.15);\n",
              "    fill: var(--button-hover-fill-color);\n",
              "  }\n",
              "\n",
              "  .colab-df-quickchart-complete:disabled,\n",
              "  .colab-df-quickchart-complete:disabled:hover {\n",
              "    background-color: var(--disabled-bg-color);\n",
              "    fill: var(--disabled-fill-color);\n",
              "    box-shadow: none;\n",
              "  }\n",
              "\n",
              "  .colab-df-spinner {\n",
              "    border: 2px solid var(--fill-color);\n",
              "    border-color: transparent;\n",
              "    border-bottom-color: var(--fill-color);\n",
              "    animation:\n",
              "      spin 1s steps(1) infinite;\n",
              "  }\n",
              "\n",
              "  @keyframes spin {\n",
              "    0% {\n",
              "      border-color: transparent;\n",
              "      border-bottom-color: var(--fill-color);\n",
              "      border-left-color: var(--fill-color);\n",
              "    }\n",
              "    20% {\n",
              "      border-color: transparent;\n",
              "      border-left-color: var(--fill-color);\n",
              "      border-top-color: var(--fill-color);\n",
              "    }\n",
              "    30% {\n",
              "      border-color: transparent;\n",
              "      border-left-color: var(--fill-color);\n",
              "      border-top-color: var(--fill-color);\n",
              "      border-right-color: var(--fill-color);\n",
              "    }\n",
              "    40% {\n",
              "      border-color: transparent;\n",
              "      border-right-color: var(--fill-color);\n",
              "      border-top-color: var(--fill-color);\n",
              "    }\n",
              "    60% {\n",
              "      border-color: transparent;\n",
              "      border-right-color: var(--fill-color);\n",
              "    }\n",
              "    80% {\n",
              "      border-color: transparent;\n",
              "      border-right-color: var(--fill-color);\n",
              "      border-bottom-color: var(--fill-color);\n",
              "    }\n",
              "    90% {\n",
              "      border-color: transparent;\n",
              "      border-bottom-color: var(--fill-color);\n",
              "    }\n",
              "  }\n",
              "</style>\n",
              "\n",
              "      <script>\n",
              "        async function quickchart(key) {\n",
              "          const quickchartButtonEl =\n",
              "            document.querySelector('#' + key + ' button');\n",
              "          quickchartButtonEl.disabled = true;  // To prevent multiple clicks.\n",
              "          quickchartButtonEl.classList.add('colab-df-spinner');\n",
              "          try {\n",
              "            const charts = await google.colab.kernel.invokeFunction(\n",
              "                'suggestCharts', [key], {});\n",
              "          } catch (error) {\n",
              "            console.error('Error during call to suggestCharts:', error);\n",
              "          }\n",
              "          quickchartButtonEl.classList.remove('colab-df-spinner');\n",
              "          quickchartButtonEl.classList.add('colab-df-quickchart-complete');\n",
              "        }\n",
              "        (() => {\n",
              "          let quickchartButtonEl =\n",
              "            document.querySelector('#df-ba29bc61-51c3-4724-b14c-9157980468cd button');\n",
              "          quickchartButtonEl.style.display =\n",
              "            google.colab.kernel.accessAllowed ? 'block' : 'none';\n",
              "        })();\n",
              "      </script>\n",
              "    </div>\n",
              "\n",
              "    </div>\n",
              "  </div>\n"
            ],
            "application/vnd.google.colaboratory.intrinsic+json": {
              "type": "dataframe",
              "variable_name": "result",
              "summary": "{\n  \"name\": \"result\",\n  \"rows\": 10,\n  \"fields\": [\n    {\n      \"column\": \"PC1\",\n      \"properties\": {\n        \"dtype\": \"number\",\n        \"std\": 2.016366607350341,\n        \"min\": -3.0271154424631614,\n        \"max\": 2.7354240674102446,\n        \"num_unique_values\": 10,\n        \"samples\": [\n          0.39347814673990583,\n          0.018143197731011355,\n          2.1470257924240297\n        ],\n        \"semantic_type\": \"\",\n        \"description\": \"\"\n      }\n    },\n    {\n      \"column\": \"y-axis\",\n      \"properties\": {\n        \"dtype\": \"number\",\n        \"std\": 0.0,\n        \"min\": 0.0,\n        \"max\": 0.0,\n        \"num_unique_values\": 1,\n        \"samples\": [\n          0.0\n        ],\n        \"semantic_type\": \"\",\n        \"description\": \"\"\n      }\n    },\n    {\n      \"column\": \"label\",\n      \"properties\": {\n        \"dtype\": \"category\",\n        \"num_unique_values\": 3,\n        \"samples\": [\n          \"Skinny\"\n        ],\n        \"semantic_type\": \"\",\n        \"description\": \"\"\n      }\n    }\n  ]\n}"
            }
          },
          "metadata": {},
          "execution_count": 20
        }
      ]
    },
    {
      "cell_type": "code",
      "source": [
        "import matplotlib.pyplot as plt\n",
        "import seaborn as sns\n",
        "%matplotlib inline\n",
        "\n",
        "sns.lmplot(x='PC1', y='y-axis', data=result, fit_reg=False,  # x-axis, y-axis, data, no line\n",
        "           scatter_kws={\"s\": 50}, # marker size\n",
        "           hue=\"label\") # color\n",
        "\n",
        "# title\n",
        "plt.title('PCA result')"
      ],
      "metadata": {
        "colab": {
          "base_uri": "https://localhost:8080/",
          "height": 547
        },
        "id": "2H304pZCvmoL",
        "outputId": "63b8568b-8274-4522-ff06-e75648a46081"
      },
      "execution_count": 25,
      "outputs": [
        {
          "output_type": "execute_result",
          "data": {
            "text/plain": [
              "Text(0.5, 1.0, 'PCA result')"
            ]
          },
          "metadata": {},
          "execution_count": 25
        },
        {
          "output_type": "display_data",
          "data": {
            "text/plain": [
              "<Figure size 600.375x500 with 1 Axes>"
            ],
            "image/png": "[encoded data removed]"
          },
          "metadata": {}
        }
      ]
    },
    {
      "cell_type": "markdown",
      "source": [
        "## 3) sklearn 활용 - PCA"
      ],
      "metadata": {
        "id": "6iC4AFPEwyDK"
      }
    },
    {
      "cell_type": "code",
      "source": [
        "from sklearn import decomposition\n",
        "pca = decomposition.PCA(n_components=1)\n",
        "sklearn_pca_x = pca.fit_transform(x_std)\n",
        "sklearn_pca_x"
      ],
      "metadata": {
        "colab": {
          "base_uri": "https://localhost:8080/"
        },
        "id": "JdhFI6tRwj0y",
        "outputId": "084e4dc4-9b18-4efd-8622-0bcb7fe2a29d"
      },
      "execution_count": 28,
      "outputs": [
        {
          "output_type": "execute_result",
          "data": {
            "text/plain": [
              "array([[-2.22600943],\n",
              "       [-0.0181432 ],\n",
              "       [ 1.76296611],\n",
              "       [-2.73542407],\n",
              "       [ 3.02711544],\n",
              "       [-2.14702579],\n",
              "       [-0.37142473],\n",
              "       [ 2.59239883],\n",
              "       [-0.39347815],\n",
              "       [ 0.50902498]])"
            ]
          },
          "metadata": {},
          "execution_count": 28
        }
      ]
    },
    {
      "cell_type": "code",
      "source": [
        "sklearn_result = pd.DataFrame(sklearn_pca_x, columns=['PC1'])\n",
        "\n",
        "sklearn_result['y-axis'] = 0.0\n",
        "sklearn_result['label'] = Y\n",
        "\n",
        "sns.lmplot(x='PC1', y= 'y-axis', data=sklearn_result, fit_reg=False,  # x-axis, y-axis, data, no line\n",
        "           scatter_kws={\"s\": 50}, # marker size\n",
        "           hue=\"label\") # color\n",
        ""
      ],
      "metadata": {
        "colab": {
          "base_uri": "https://localhost:8080/",
          "height": 524
        },
        "id": "BKjKbP80xBfm",
        "outputId": "2b99f6d5-45c8-4654-e3d5-e3a4678af02f"
      },
      "execution_count": 30,
      "outputs": [
        {
          "output_type": "execute_result",
          "data": {
            "text/plain": [
              "<seaborn.axisgrid.FacetGrid at 0x7a18b4517bd0>"
            ]
          },
          "metadata": {},
          "execution_count": 30
        },
        {
          "output_type": "display_data",
          "data": {
            "text/plain": [
              "<Figure size 600.375x500 with 1 Axes>"
            ],
            "image/png": "[encoded data removed]"
          },
          "metadata": {}
        }
      ]
    },
    {
      "cell_type": "code",
      "source": [
        "from sklearn import decomposition\n",
        "pca = decomposition.PCA(n_components=2)\n",
        "sklearn_pca_x = pca.fit_transform(x_std)\n",
        "sklearn_pca_x\n",
        ""
      ],
      "metadata": {
        "colab": {
          "base_uri": "https://localhost:8080/"
        },
        "id": "PGORFji9xPrE",
        "outputId": "fa21e557-9dca-4aa6-9252-e6c45f7bb86f"
      },
      "execution_count": 31,
      "outputs": [
        {
          "output_type": "execute_result",
          "data": {
            "text/plain": [
              "array([[-2.22600943, -0.54936514],\n",
              "       [-0.0181432 , -0.23871898],\n",
              "       [ 1.76296611,  0.36868681],\n",
              "       [-2.73542407,  0.4544983 ],\n",
              "       [ 3.02711544, -0.41305057],\n",
              "       [-2.14702579, -0.83449111],\n",
              "       [-0.37142473, -1.05380594],\n",
              "       [ 2.59239883, -0.3985085 ],\n",
              "       [-0.39347815,  2.09420397],\n",
              "       [ 0.50902498,  0.57055116]])"
            ]
          },
          "metadata": {},
          "execution_count": 31
        }
      ]
    },
    {
      "cell_type": "code",
      "source": [
        "\n",
        "sklearn_result = pd.DataFrame(sklearn_pca_x, columns=['PC1', 'PC2'])\n",
        "sklearn_result['label'] = Y\n",
        "\n",
        "sns.lmplot(x= 'PC1', y='PC2', data=sklearn_result, fit_reg=False,  # x-axis, y-axis, data, no line\n",
        "           scatter_kws={\"s\": 50}, # marker size\n",
        "           hue=\"label\") # color"
      ],
      "metadata": {
        "colab": {
          "base_uri": "https://localhost:8080/",
          "height": 525
        },
        "id": "ugbcBu3nxRUF",
        "outputId": "82a5374b-76e5-491b-d53c-83ef094603cd"
      },
      "execution_count": 33,
      "outputs": [
        {
          "output_type": "execute_result",
          "data": {
            "text/plain": [
              "<seaborn.axisgrid.FacetGrid at 0x7a18b1a13e90>"
            ]
          },
          "metadata": {},
          "execution_count": 33
        },
        {
          "output_type": "display_data",
          "data": {
            "text/plain": [
              "<Figure size 600.375x500 with 1 Axes>"
            ],
            "image/png": "[encoded data removed]"
          },
          "metadata": {}
        }
      ]
    },
    {
      "cell_type": "code",
      "source": [
        "pca.explained_variance_ratio_"
      ],
      "metadata": {
        "colab": {
          "base_uri": "https://localhost:8080/"
        },
        "id": "Ik3-cDybx0nE",
        "outputId": "e277ae91-8065-4040-9b60-0a6834939c80"
      },
      "execution_count": 34,
      "outputs": [
        {
          "output_type": "execute_result",
          "data": {
            "text/plain": [
              "array([0.73183217, 0.15097617])"
            ]
          },
          "metadata": {},
          "execution_count": 34
        }
      ]
    }
  ]
}