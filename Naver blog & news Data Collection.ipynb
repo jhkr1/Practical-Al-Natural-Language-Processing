{
  "nbformat": 4,
  "nbformat_minor": 0,
  "metadata": {
    "colab": {
      "provenance": [],
      "authorship_tag": "ABX9TyPf5268dmAmLaoCQXpNdb1G",
      "include_colab_link": true
    },
    "kernelspec": {
      "name": "python3",
      "display_name": "Python 3"
    },
    "language_info": {
      "name": "python"
    }
  },
  "cells": [
    {
      "cell_type": "markdown",
      "metadata": {
        "id": "view-in-github",
        "colab_type": "text"
      },
      "source": [
        "<a href=\"https://colab.research.google.com/github/jhkr1/Practical-Al-Natural-Language-Processing/blob/main/Naver%20blog%20%26%20news%20Data%20Collection.ipynb\" target=\"_parent\"><img src=\"https://colab.research.google.com/assets/colab-badge.svg\" alt=\"Open In Colab\"/></a>"
      ]
    },
    {
      "cell_type": "markdown",
      "source": [
        "## 1. 네이버 뉴스 수집"
      ],
      "metadata": {
        "id": "V3knusMlnDG0"
      }
    },
    {
      "cell_type": "code",
      "execution_count": 27,
      "metadata": {
        "id": "qEjrRZJymUUl"
      },
      "outputs": [],
      "source": [
        "import requests\n",
        "from bs4 import BeautifulSoup\n",
        "\n",
        "url = \"https://news.naver.com/main/read.nhn?mode=LSD&mid=sec&sid1=105&oid=030&aid=0002700985\"\n",
        "\n",
        "\n",
        "\n",
        "def get_naver_news(url):\n",
        "\n",
        "  h = {\"user-agent\": \"Mozilla/5.0 (Macintosh; Intel Mac OS X 10_15_7) AppleWebKit/537.36 (KHTML, like Gecko) Chrome/135.0.0.0 Safari/537.36\"}\n",
        "  res = requests.get(url, headers=h)\n",
        "  bs = BeautifulSoup(res.content, 'html.parser')\n",
        "\n",
        "  date_span = bs.find('span', class_='media_end_head_info_datestamp_time _ARTICLE_DATE_TIME')\n",
        "\n",
        "  if date_span:\n",
        "      date_text = date_span.get_text(strip=True)\n",
        "  else:\n",
        "      print(\"날짜 정보가 없습니다.\")\n",
        "\n",
        "  title = bs.find('h2', class_='media_end_head_headline')\n",
        "\n",
        "  if title:\n",
        "      title_text = title.get_text(strip=True)\n",
        "  else:\n",
        "      print(\"제목 정보가 없습니다.\")\n",
        "\n",
        "  meta_agency = bs.find('meta', property='og:article:author')\n",
        "  if meta_agency:\n",
        "      press_name = meta_agency['content']\n",
        "  else:\n",
        "      print(\"매체명을 찾을 수 없습니다.\")\n",
        "\n",
        "\n",
        "  contents = bs.find('div', class_='newsct_article _article_body')\n",
        "\n",
        "  if contents:\n",
        "      contents_text = contents.get_text(strip=True)\n",
        "  else:\n",
        "      print(\"내용 정보가 없습니다.\")\n",
        "  return date_text, title_text, press_name, contents_text"
      ]
    },
    {
      "cell_type": "code",
      "source": [
        "url = 'https://n.news.naver.com/mnews/article/421/0008320395'\n",
        "get_naver_news(url)"
      ],
      "metadata": {
        "colab": {
          "base_uri": "https://localhost:8080/"
        },
        "id": "DFzSBkcMtxZh",
        "outputId": "60f4c48a-d180-47d8-f981-105fd79ba427"
      },
      "execution_count": 30,
      "outputs": [
        {
          "output_type": "execute_result",
          "data": {
            "text/plain": [
              "('2025.06.19. 오전 9:34',\n",
              " \"네이버지도 '발견' 탭 추가…취향 저격·전국 인기 장소 한눈에\",\n",
              " '뉴스1 | 네이버',\n",
              " \"기존 '주변' 탭 고도화, 이용자 주변·화제성 높은 장소 추천(네이버 제공)(서울=뉴스1) 신은빈 기자 = 네이버지도가 '발견' 탭을 새롭게 도입해 취향에 맞는 장소를 손쉽게 찾을 수 있도록 돕는다.네이버(035420)는 지도 애플리케이션(앱) 신규 업데이트를 통해 발견 탭을 추가하고 이용자 주변과 전국 단위 인기 장소 정보를 제공한다고 19일 밝혔다.발견 탭은 네이버지도 앱 하단 왼쪽 첫 번째 위치에 추가됐다. △지금 많이 찾는 장소 △내 활동 기반 추천 장소 △인기 있는 저장 리스트 △주변에서 바로 쓸 수 있는 혜택 △전국 핫플레이스 등 각 주제에 맞는 추천 영역에서 이용자 위치와 관심사를 기반으로 다양한 장소를 소개한다.신규 도입된 발견은 기존 '주변' 탭을 고도화한 서비스다. 이용자가 확인한 시점에 많은 이용자들에게 주목받는 장소 정보를 바로 제공한다. 네이버의 데이터로 인기도를 측정해 추천 정보에 반영했다.기존 주변 탭에서는 이용자 주변 음식점 정보만 추천받을 수 있었지만 발견 탭은 더 넓은 범주의 인기 장소 정보를 제공한다. 이용자 주변은 물론 전국 단위 음식점, 문화 시설, 지역 명소 등 다양한 정보를 확인할 수 있다.서울 북촌, 강원 강릉, 부산, 제주 등 화제성이 높은 장소는 별도 지역 단위 추천 영역으로 소개한다. 해당 지역의 인기 장소도 함께 보여준다.이용자 맞춤형 장소 추천 영역에는 플레이스 리뷰를 통해 장소 정보를 노출한다. 텍스트와 사진, 클립 등 장소를 체험한 이용자들이 직접 남긴 다양한 콘텐츠를 참고해 취향에 맞는 장소를 발견할 수 있다.현재 이용자가 보고 있는 지도에서 추천 장소까지 거리도 안내해 준다. 추천 영역에서 마음에 드는 장소를 저장하거나 바로 예약까지 진행할 수 있다.'인기 있는 저장 리스트'에서는 다른 이용자들의 추천 장소 목록을 확인할 수 있다. 이용자 주변 지역 사업장에서 제공하는 이벤트 쿠폰 정보를 한눈에 살펴볼 수 있는 별도 영역도 있다.\")"
            ]
          },
          "metadata": {},
          "execution_count": 30
        }
      ]
    },
    {
      "cell_type": "markdown",
      "source": [
        "## 2. 네이버 블로그 수집"
      ],
      "metadata": {
        "id": "FFP4dbHUuj9x"
      }
    },
    {
      "cell_type": "code",
      "source": [
        "def get_naver_blog(url):\n",
        "  h = {\"user-agent\": \"Mozilla/5.0 (Macintosh; Intel Mac OS X 10_15_7) AppleWebKit/537.36 (KHTML, like Gecko) Chrome/135.0.0.0 Safari/537.36\"}\n",
        "  res = requests.get(url, headers=h)\n",
        "  bs = BeautifulSoup(res.content, 'html.parser')\n",
        "\n",
        "  iframe_src = bs.find('iframe', id='mainFrame')['src']\n",
        "  main_url = f\"https://blog.naver.com{iframe_src}\"\n",
        "\n",
        "  res = requests.get(main_url, headers=h)\n",
        "  bs = BeautifulSoup(res.content, 'html.parser')\n",
        "\n",
        "\n",
        "  title_container = bs.find('div', class_='pcol1')\n",
        "\n",
        "  # title_container가 존재할 경우에만 내부의 span을 찾습니다. (AttributeError 방지)\n",
        "  title_element = title_container.find('span') if title_container else None\n",
        "\n",
        "  # title_element가 존재할 경우에만 텍스트를 추출합니다.\n",
        "  title_text = title_element.get_text(strip=True) if title_element else \"제목을 찾을 수 없습니다.\"\n",
        "\n",
        "\n",
        "  date_element = bs.find('span', class_='se_publishDate pcol2')\n",
        "  date_text = date_element.get_text(strip=True) if date_element else \"날짜를 찾을 수 없습니다.\"\n",
        "\n",
        "  contents_element = bs.find('div', class_='se-main-container')\n",
        "  contents_text = contents_element.get_text(strip=True) if contents_element else \"내용을 찾을 수 없습니다.\"\n",
        "\n",
        "\n",
        "  return title_text, date_text, contents_text"
      ],
      "metadata": {
        "id": "pMssJVqGumM5"
      },
      "execution_count": 44,
      "outputs": []
    },
    {
      "cell_type": "code",
      "source": [
        "url = 'https://blog.naver.com/imdg3530/223885250519'\n",
        "\n",
        "get_naver_blog(url)"
      ],
      "metadata": {
        "colab": {
          "base_uri": "https://localhost:8080/"
        },
        "id": "A8SOIUZPz7js",
        "outputId": "547ac967-3e04-48ff-bd96-b0d9696364d5"
      },
      "execution_count": 45,
      "outputs": [
        {
          "output_type": "execute_result",
          "data": {
            "text/plain": [
              "('[SSAFYcial] #5. 🌱 SSAFY 1학기를 통해 얻은 것들, 그리고 비전공자로서의 성장',\n",
              " '2025. 6. 1. 21:14',\n",
              " \"SSAFY 한 학기를 돌아보며 – 비전공자의 성장기\\u200b안녕하세요! 어느덧 5월도 절반이 지나가고, 한 학기를 마무리하는 시점에 와 있네요. 이제는 프론트엔드 프레임워크도 거의 마무리되어가고, 1학기 마지막 관통 프로젝트만을 남겨두고 있습니다. 날씨도 점점 더워지고 있으니, 건강관리 잘 하시면서 마지막 프로젝트 잘 준비하시길 바랍니다! 😊\\u200b이번 포스팅에서는 제가 SSAFY를 다니며 얻은 것들, 그리고 SSAFY가 아니었다면 하지 못했을 경험들에 대해 이야기해보려 해요. 사람마다 느끼는 점은 다르겠지만, IT와 SW에 대해 거의 몰랐던비전공자의 입장에서 어떤 교육과정이 좋았는지를 공유해보겠습니다.SSAFY 입과 전, 막연했던 기대앞서 말했듯이 저는 SSAFY 입과 전, 파이썬 문법만 조금 배워 Hello World를 화면에 띄워본 정도의경영학도였습니다. 단지, IT 기술을 활용해 세상에 도움이 되는 제품이나 서비스를 만들고 싶다는 막연한 꿈만 가지고 이 분야에 발을 들이게 되었어요.\\u200b실제로 해본 게 없다 보니 그 목표도 두루뭉술했고, SSAFY 교육에 대한 기대도 마찬가지로 구체적이지 않았습니다. ‘코딩 실력이란 게 뭘까?’, ‘일단 프로젝트 경험을 쌓아서 IT 기획 직무 취업에 도움이 되면 좋겠다’는 생각 정도였죠.예상보다 더 많이 배운 SSAFY 커리큘럼하지만 막상 SSAFY 커리큘럼을 따라가다 보니, 단순한 문법이나 기술을 배우는 데서 그치지 않고“왜 이 기술을 배워야 하는지”,어떻게 공부해야 하는지까지 스스로 고민하게 되었습니다. 매 수업마다 새로운 도전이었고, 각 기술의 필요성과 원리를 자연스럽게 이해해나갈 수 있었어요.\\u200b이런 생각들은 어느 한 수업에서 갑자기 얻어진 건 아니었고, 파이썬 기초 문법 학습부터 알고리즘 수업, 백엔드/프론트엔드 프로젝트에 이르기까지 커리큘럼을 차례로 따라가며 점차 쌓여간 것 같아요. 그래서인지 SSAFY의 한 학기를 마치고 나니 오히려 내가 부족한 게 무엇이고 앞으로 어떤 방식으로 공부를 이어가야 하는지가 더욱 명확해진 것 같습니다 !\\u200b아무것도 해보지 않아서 모를 때는 열정이 있더라도 어디서부터 어떻게 시작해야 하는지 몰라 시작이 잘 안되는 경우가 많았었는데, SSAFY는 그러한 로드맵을 제공해준다는 점에서 IT 개발자로의 길라잡이라고 생각합니다 :)알고리즘에 대한 두려움에서 성장으로\\u200b그 중 특히, 알고리즘 교육이 기억에 남아요. 입과 전에는 코딩테스트라는 말만 들어도 막막했는데, SSAFY에서는 아주 기초적인 문제부터 시작해 체계적으로 배워갈 수 있었어요. 덕분에 어느 순간부터는 어려운 문제를 보아도 차근차근 접근할 수 있었고, 배운 알고리즘을 적절히 활용해서 코딩테스트 기출문제도 풀 수 있게 되었어요!무엇보다 자료구조와 알고리즘이라는 커리큘럼을 한 번 쭈욱 듣고 나니까 전체적인 흐름을 이해할 수 있었고, 부족한 부분에 맞춰 스스로 책이나 레퍼런스들을 찾아가며 학습할 수 있는 역량이 길러졌다고 생각해요. 또 외계어처럼 들리던 다른 사람의 풀이과정도 점차 귀에 들어오기 시작하여서 혼자서도 공부를 이어나갈 수 있게 된 점이 가장 큰 성과라고 느꼈습니다 ㅎㅎ웹 개발의 풀사이클을 경험하며그리고 웹 개발 교육과정에는 웹사이트 개발의 풀사이클을 경험해 볼 수 있는 프론트엔드 및 백엔드 교육과정이 있어요. SSAFY에 입과하기 전에는 기획자로서 어떠한 아이디어를 가지고 프로그램을 만드려고 개발자들과 협업을 하려고 했을 때, 필요한 기능이랑 일정만 잘 짜면 뚝딱 개발하고 프로그램이 만들어지는 줄 알았는데, 전혀 그렇지 않더라고요.\\u200b소프트웨어를 개발할 땐 기능 구현 이전에 프로젝트 전반의 목적에 따른 설계 또한 정말 중요했고, 요구사항에 따라 개발을 진행하다 보면 간단해 보이는 기능이더라도 예상보다 오래 걸리는 경우도 많았습니다. SSAFY에서는 설계부터 배포까지 모든 과정을 학습하고 실습해보면서 소프트웨어 개발의 흐름을 익힐 수 있습니다.웹 서비스 구조를 이해하게 된 경험\\u200b또 웹 서비스 동작 구조를 이해할 수 있게 됩니다! 사용자(클라이언트)가 웹사이트에 접속하면, 브라우저를 통해 HTTP 요청을 보내게 되고, 이 요청은 웹서버를 거쳐 핵심 로직을 처리하는 애플리케이션 서벌 ㅗ전달되어 데이터베이스에 저장된 정보를 불러오고 다시 웹서버를 거쳐 사용자에게 응답 화면을 반환합ㄴ다.\\u200bSSAFY에서 이 구조를 직접 구현해보며 프론트엔드와 백엔드의 연결 방식, 데이터의 흐름, 비즈니스 로직등 사용자가 어떤 버튼을 클릭했을 때 어떤 과정으로 화면이 업데이트 되는지를 정확히 파악할 수 있게 되었습니다.\\u200b🌱SSAFY에서 얻은 것들, 그리고 비전공자로서의 성장\\u200b돌이켜보면, SSAFY는 단순히 개발 기술을 배우는 곳이 아니었습니다. 비전공자로서 막연했던 '개발자'라는 꿈을 현실적인 목표로 바꾸어준, 저만의 커리어 로드맵이 되어주었습니다. 알고리즘의 기초부터 웹 서비스의 동작 원리, 그리고 직접 프로젝트를 기획하고 설계하며 만들어본 경험까지 그 어떤 것도 혼자서는 쉽게 경험할 수 없었을 소중한 배움이었습니다.무엇보다, SSAFY가 아니었다면 개발이라는 분야에 대해 이렇게 체계적이고 실전적으로 접근해볼 수는 없었을 거예요. 실수하고, 수정하고, 팀원들과 끊임없이 소통하면서 배우는 과정 속에서 진짜 성장할 수 있었고, 이제는 어떤 기술을 왜 배우고, 어떻게 활용할 수 있는지를 스스로 고민할 수 있는 힘이 생겼습니다.이제 마지막 프로젝트만을 남겨두고 있는 지금, SSAFY에서의 1학기는 제게 단순한 공부 그 이상의 시간이었습니다. 이 경험들을 밑거름 삼아, 남은 교육도 끝까지 최선을 다해 완주하고 싶습니다 💪✨\\u200b\\u200b\\u200b\\u200b\\u200b\\u200b\\u200b이 글을 읽고 계신 분이 SSAFY를 준비 중인 지원자일 수도 있고, 현재 함께 달리고 있는 교육생일 수도 있을 것 같아요. 모두 각자의 자리에서 열심히 달려오셨을 텐데요, 남은 상반기 잘 마무리하시길 진심으로 응원합니다! 🌷#SSAFY#싸피#SSAFY13기#싸피13기#싸피광주#싸피광주캠퍼스#삼성청년소프트웨어아카데미#부트캠프#비전공자#웹개발#알고리즘#자료구조#Django#Vue#백엔드#프론트엔드#프로젝트#데이터베이스#IT서비스\\u200bHellossafycial(@hellossafycial) • Instagram 사진 및 동영상팔로워 4,291명, 팔로잉 60명, 게시물 802개 - Hellossafycial(@hellossafycial)님의 Instagram 사진 및 동영상 보기www.instagram.com삼성청년SW·AI아카데미(SSAFY,싸피)삼성이 주관하고, 고용노동부가 후원하는 “청년 취업프로그램“ |SW·AI 교육, 취업 지원, 코딩 교육, IT교육www.ssafy.com\\u200b\\u200b\\u200b\\u200b\")"
            ]
          },
          "metadata": {},
          "execution_count": 45
        }
      ]
    }
  ]
}