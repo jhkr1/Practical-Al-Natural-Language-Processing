{
  "nbformat": 4,
  "nbformat_minor": 0,
  "metadata": {
    "colab": {
      "provenance": [],
      "authorship_tag": "ABX9TyNs2XhN+o1fppOtgrr5ZqaX",
      "include_colab_link": true
    },
    "kernelspec": {
      "name": "python3",
      "display_name": "Python 3"
    },
    "language_info": {
      "name": "python"
    }
  },
  "cells": [
    {
      "cell_type": "markdown",
      "metadata": {
        "id": "view-in-github",
        "colab_type": "text"
      },
      "source": [
        "<a href=\"https://colab.research.google.com/github/jhkr1/Practical-Al-Natural-Language-Processing/blob/main/Word_Representation_OneHotEncoding%2C_Euclidean_Distance%2C_Jaccard_index%2C_Cosine_Similarity.ipynb\" target=\"_parent\"><img src=\"https://colab.research.google.com/assets/colab-badge.svg\" alt=\"Open In Colab\"/></a>"
      ]
    },
    {
      "cell_type": "markdown",
      "source": [
        "# 단어의 표현 (Word Representation)"
      ],
      "metadata": {
        "id": "xTuHC34vgV0V"
      }
    },
    {
      "cell_type": "markdown",
      "source": [
        "## 1. 원-핫 인코딩(One-Hot Encoding)"
      ],
      "metadata": {
        "id": "Qz-yoXd1grAw"
      }
    },
    {
      "cell_type": "markdown",
      "source": [
        "### 1-1) 직접 구현"
      ],
      "metadata": {
        "id": "Lnnh1TjDgwzE"
      }
    },
    {
      "cell_type": "code",
      "execution_count": 1,
      "metadata": {
        "id": "X4Y8uMO6gT2k"
      },
      "outputs": [],
      "source": [
        "word_ls = ['원숭이','바나나','사과','개', '고양이']"
      ]
    },
    {
      "cell_type": "code",
      "source": [
        "from collections import defaultdict\n",
        "import numpy as np\n",
        "\n",
        "def one_hot_encode(word_ls):\n",
        "  # 고유 단어와 인덱스를 매칭시켜주는 사전 생성\n",
        "  word2id_dic = defaultdict(lambda:len(word2id_dic))\n",
        "  # {단어 : 인덱스} 딕셔너리 구축\n",
        "  for word in word_ls:\n",
        "    word2id_dic[word]\n",
        "\n",
        "  n_unique_words = len(word2id_dic) # 고유한 단어의 개수\n",
        "  one_hot_vectors = np.zeros((len(word_ls), n_unique_words)) # 원핫-벡터를 만들기 위해 비어있는 벡터 생성\n",
        "\n",
        "  for i, word in enumerate(word_ls):\n",
        "    index = word2id_dic[word]\n",
        "    one_hot_vectors[i, index] = 1\n",
        "\n",
        "  return one_hot_vectors\n"
      ],
      "metadata": {
        "id": "lzE_FEWphCjh"
      },
      "execution_count": 8,
      "outputs": []
    },
    {
      "cell_type": "code",
      "source": [
        "one_hot_encode(word_ls)"
      ],
      "metadata": {
        "colab": {
          "base_uri": "https://localhost:8080/"
        },
        "id": "S2FtPh-GhdRt",
        "outputId": "e6307cd8-9eff-4bc3-b203-fbe83c6e488f"
      },
      "execution_count": 9,
      "outputs": [
        {
          "output_type": "execute_result",
          "data": {
            "text/plain": [
              "array([[1., 0., 0., 0., 0.],\n",
              "       [0., 1., 0., 0., 0.],\n",
              "       [0., 0., 1., 0., 0.],\n",
              "       [0., 0., 0., 1., 0.],\n",
              "       [0., 0., 0., 0., 1.]])"
            ]
          },
          "metadata": {},
          "execution_count": 9
        }
      ]
    },
    {
      "cell_type": "markdown",
      "source": [
        "### \"코끼리\"라는 단어가 추가된다면?\n"
      ],
      "metadata": {
        "id": "9GDzH9gpiclv"
      }
    },
    {
      "cell_type": "code",
      "source": [
        "word_ls = ['원숭이', '바나나', '사과','코끼리']"
      ],
      "metadata": {
        "id": "ahoOYqhsiftg"
      },
      "execution_count": 10,
      "outputs": []
    },
    {
      "cell_type": "code",
      "source": [
        "one_hot_vectors = one_hot_encode(word_ls)\n",
        "one_hot_vectors"
      ],
      "metadata": {
        "colab": {
          "base_uri": "https://localhost:8080/"
        },
        "id": "lxRpOIMQilHD",
        "outputId": "47742f9a-3326-4aba-def2-86ee16780648"
      },
      "execution_count": 11,
      "outputs": [
        {
          "output_type": "execute_result",
          "data": {
            "text/plain": [
              "array([[1., 0., 0., 0.],\n",
              "       [0., 1., 0., 0.],\n",
              "       [0., 0., 1., 0.],\n",
              "       [0., 0., 0., 1.]])"
            ]
          },
          "metadata": {},
          "execution_count": 11
        }
      ]
    },
    {
      "cell_type": "markdown",
      "source": [
        "### 1-2) sklearn 활용"
      ],
      "metadata": {
        "id": "CFXrNUmKiqZ2"
      }
    },
    {
      "cell_type": "code",
      "source": [
        "from numpy import array\n",
        "from numpy import argmax\n",
        "from sklearn.preprocessing import LabelEncoder\n",
        "from sklearn.preprocessing import OneHotEncoder"
      ],
      "metadata": {
        "id": "uqPens-diuIp"
      },
      "execution_count": 14,
      "outputs": []
    },
    {
      "cell_type": "code",
      "source": [
        "values = array(word_ls)\n",
        "print('1. 문장을 배열로 만들기')\n",
        "print(values)\n",
        "print('='* 50)\n",
        "\n",
        "label_enc = LabelEncoder()\n",
        "int_enc = label_enc.fit_transform(values)\n",
        "print(\"2. 배열에 LabelEncoder 적용하기\")\n",
        "print(int_enc)\n",
        "print('='* 50)\n",
        "\n",
        "# binary encode\n",
        "onehot_enc = OneHotEncoder(sparse_output=False)\n",
        "int_enc = int_enc.reshape(len(int_enc), 1)\n",
        "print(\"3. LabelEncoder를 적용한 배열을 reshape 하기\")\n",
        "print(int_enc)\n",
        "print('='* 50)\n",
        "\n",
        "onehot_enc = onehot_enc.fit_transform(int_enc)\n",
        "print(\"4.reshape한 배열에 다시 OneHotEncoder 적용시키기\")\n",
        "print(onehot_enc)\n",
        "print('='* 50)\n",
        "\n",
        "# one-hot encoding의 첫 번째 배열의 값을 역으로 산출\n",
        "inverted = label_enc.inverse_transform([argmax(onehot_enc[0, :])])\n",
        "print(\"5. 첫 번째 배열의 값을 역으로 산출하기\")\n",
        "print(inverted)"
      ],
      "metadata": {
        "colab": {
          "base_uri": "https://localhost:8080/"
        },
        "id": "V2KRgGjai6a2",
        "outputId": "4f82bf11-d612-42e0-8674-39c04563f377"
      },
      "execution_count": 24,
      "outputs": [
        {
          "output_type": "stream",
          "name": "stdout",
          "text": [
            "1. 문장을 배열로 만들기\n",
            "['원숭이' '바나나' '사과' '코끼리']\n",
            "==================================================\n",
            "2. 배열에 LabelEncoder 적용하기\n",
            "[2 0 1 3]\n",
            "==================================================\n",
            "3. LabelEncoder를 적용한 배열을 reshape 하기\n",
            "[[2]\n",
            " [0]\n",
            " [1]\n",
            " [3]]\n",
            "==================================================\n",
            "4.reshape한 배열에 다시 OneHotEncoder 적용시키기\n",
            "[[0. 0. 1. 0.]\n",
            " [1. 0. 0. 0.]\n",
            " [0. 1. 0. 0.]\n",
            " [0. 0. 0. 1.]]\n",
            "==================================================\n",
            "5. 첫 번째 배열의 값을 역으로 산출하기\n",
            "['원숭이']\n"
          ]
        }
      ]
    },
    {
      "cell_type": "markdown",
      "source": [
        "## 2. 유사도 계산"
      ],
      "metadata": {
        "id": "h27uyRv0lBYo"
      }
    },
    {
      "cell_type": "markdown",
      "source": [
        "### 2-1) 유클리디언 거리(Euclidean Distance)"
      ],
      "metadata": {
        "id": "FIf0IcWylDSd"
      }
    },
    {
      "cell_type": "markdown",
      "source": [
        "![1.png](data:image/png;base64,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)"
      ],
      "metadata": {
        "id": "2ZjuRrYJlIB2"
      }
    },
    {
      "cell_type": "markdown",
      "source": [
        "![1.svg](data:image/svg+xml;base64,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)"
      ],
      "metadata": {
        "id": "PeSid0EllUzT"
      }
    },
    {
      "cell_type": "code",
      "source": [
        "word_embedding_dic = {\n",
        "    '사과' : [1.0, 0.5],\n",
        "    '바나나' : [0.9, 1.2],\n",
        "    '원숭이' : [0.5, 1.5]\n",
        "}"
      ],
      "metadata": {
        "id": "Ymhb3RkMlXCT"
      },
      "execution_count": 25,
      "outputs": []
    },
    {
      "cell_type": "code",
      "source": [
        "import numpy as np\n",
        "def euclidean_dist(x, y):\n",
        "    x = np.array(x)\n",
        "    y = np.array(y)\n",
        "    return np.sqrt(np.sum((x-y)**2))\n",
        "\n",
        "# 사과와 바나나의 코사인 유사도\n",
        "euclidean_dist(word_embedding_dic['사과'], word_embedding_dic['바나나'])"
      ],
      "metadata": {
        "colab": {
          "base_uri": "https://localhost:8080/"
        },
        "id": "9INaAEYuleWe",
        "outputId": "2074e60b-fc15-40a6-e96c-f12a8ea8444f"
      },
      "execution_count": 27,
      "outputs": [
        {
          "output_type": "execute_result",
          "data": {
            "text/plain": [
              "np.float64(0.7071067811865475)"
            ]
          },
          "metadata": {},
          "execution_count": 27
        }
      ]
    },
    {
      "cell_type": "code",
      "source": [
        "np.sqrt(np.power(1.0 - 0.9, 2.0) + np.power(0.5 - 1.2, 2.0))"
      ],
      "metadata": {
        "colab": {
          "base_uri": "https://localhost:8080/"
        },
        "id": "zco7JRKSl1Ly",
        "outputId": "541747b1-0da6-4e91-f9bf-e0213f31a069"
      },
      "execution_count": 28,
      "outputs": [
        {
          "output_type": "execute_result",
          "data": {
            "text/plain": [
              "np.float64(0.7071067811865475)"
            ]
          },
          "metadata": {},
          "execution_count": 28
        }
      ]
    },
    {
      "cell_type": "markdown",
      "source": [
        "### 2-2) 자카드 유사도(Jaccard Index)"
      ],
      "metadata": {
        "id": "Oh5SjJc2mXrq"
      }
    },
    {
      "cell_type": "markdown",
      "source": [
        "![1.png](data:image/png;base64,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)"
      ],
      "metadata": {
        "id": "Q0Pz7b3ymc98"
      }
    },
    {
      "cell_type": "markdown",
      "source": [
        "![2.svg](data:image/svg+xml;base64,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)"
      ],
      "metadata": {
        "id": "cVPGDdKlmfnn"
      }
    },
    {
      "cell_type": "code",
      "source": [
        "s1 = '대부분 원숭이는 바나나를 좋아합니다.'\n",
        "s2 = '코주부 원숭이는 바나나를 싫어합니다.'\n",
        "\n",
        "token_s1 = s1.split()\n",
        "token_s2 = s2.split()\n",
        "\n",
        "union = set(token_s1).union(set(token_s2))\n",
        "\n",
        "print(union)\n",
        "\n",
        "intersection = set(token_s1).intersection(set(token_s2))\n",
        "\n",
        "print(intersection)\n",
        "\n",
        "print(len(intersection) / len(union))"
      ],
      "metadata": {
        "colab": {
          "base_uri": "https://localhost:8080/"
        },
        "id": "ZDJgl_tOmcon",
        "outputId": "94cc3ce7-5fb6-43a6-d29b-6b9cd483e64c"
      },
      "execution_count": 30,
      "outputs": [
        {
          "output_type": "stream",
          "name": "stdout",
          "text": [
            "{'원숭이는', '싫어합니다.', '바나나를', '좋아합니다.', '대부분', '코주부'}\n",
            "{'원숭이는', '바나나를'}\n",
            "0.3333333333333333\n"
          ]
        }
      ]
    },
    {
      "cell_type": "markdown",
      "source": [
        "### 2-3) 코사인 유사도(Cosine Similarity)"
      ],
      "metadata": {
        "id": "zoFG0y3mnZJe"
      }
    },
    {
      "cell_type": "markdown",
      "source": [
        "* 두 벡터간의 유사도를 측정하는 방법 중 하나\n",
        "* 두 벡터 사이의 코사인을 측정\n",
        "* 0도 = 1, 90도 = 0, 180도 = -1 ==> 1에 가까울수록 유사도가 높음\n"
      ],
      "metadata": {
        "id": "SH5O75ponhiN"
      }
    },
    {
      "cell_type": "markdown",
      "source": [
        "![3.svg](data:image/svg+xml;base64,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)"
      ],
      "metadata": {
        "id": "83Bged2pnmuM"
      }
    },
    {
      "cell_type": "code",
      "source": [
        "def cosine_similarity(x, y):\n",
        "  # x와 y, 두 벡터의 코사인 유사도를 계산하는 함수\n",
        "  nominator = np.dot(x, y) # 두 벡터의 내적 계산\n",
        "  denominator = np.linalg.norm(x) * np.linalg.norm(y) # 벡터 x의 크기와 벡터 y의 크기를 곱한다.\n",
        "\n",
        "  return nominator / denominator"
      ],
      "metadata": {
        "id": "mgOQFXtUne4-"
      },
      "execution_count": 32,
      "outputs": []
    },
    {
      "cell_type": "code",
      "source": [
        "# 사과와 바나나의 코사인 유사도\n",
        "print(cosine_similarity(word_embedding_dic['사과'], word_embedding_dic['바나나']))\n",
        "print(euclidean_dist(word_embedding_dic['사과'], word_embedding_dic['바나나']))\n",
        ""
      ],
      "metadata": {
        "colab": {
          "base_uri": "https://localhost:8080/"
        },
        "id": "II5wKodnoU7r",
        "outputId": "69581400-b64b-411e-e8c3-b8b8152a426b"
      },
      "execution_count": 33,
      "outputs": [
        {
          "output_type": "stream",
          "name": "stdout",
          "text": [
            "0.8944271909999159\n",
            "0.7071067811865475\n"
          ]
        }
      ]
    },
    {
      "cell_type": "code",
      "source": [
        "# 사과와 원숭이의 코사인 유사도\n",
        "print(cosine_similarity(word_embedding_dic['사과'], word_embedding_dic['원숭이']))\n",
        "print(euclidean_dist(word_embedding_dic['사과'], word_embedding_dic['원숭이']))"
      ],
      "metadata": {
        "colab": {
          "base_uri": "https://localhost:8080/"
        },
        "id": "6clYSah-oW0z",
        "outputId": "b70afe05-886e-459a-ee39-d315b63b76bf"
      },
      "execution_count": 34,
      "outputs": [
        {
          "output_type": "stream",
          "name": "stdout",
          "text": [
            "0.7071067811865475\n",
            "1.118033988749895\n"
          ]
        }
      ]
    },
    {
      "cell_type": "code",
      "source": [
        "# 바나나와 원숭이의 코사인 유사도\n",
        "print(cosine_similarity(word_embedding_dic['바나나'], word_embedding_dic['원숭이']))\n",
        "print(euclidean_dist(word_embedding_dic['바나나'], word_embedding_dic['원숭이']))"
      ],
      "metadata": {
        "colab": {
          "base_uri": "https://localhost:8080/"
        },
        "id": "pZEUxvkCoYc-",
        "outputId": "9f973621-aade-41dd-fa80-ed4b5e90d3ba"
      },
      "execution_count": 35,
      "outputs": [
        {
          "output_type": "stream",
          "name": "stdout",
          "text": [
            "0.9486832980505138\n",
            "0.5\n"
          ]
        }
      ]
    }
  ]
}